{
 "cells": [
  {
   "cell_type": "markdown",
   "metadata": {
    "tags": []
   },
   "source": [
    "# Predict Car Prices"
   ]
  },
  {
   "cell_type": "code",
   "execution_count": 29,
   "metadata": {
    "_cell_guid": "79c7e3d0-c299-4dcb-8224-4455121ee9b0",
    "_uuid": "d629ff2d2480ee46fbb7e2d37f6b5fab8052498a",
    "tags": []
   },
   "outputs": [],
   "source": [
    "import numpy as np\n",
    "import pandas as pd\n",
    "pd.options.display.float_format='{:.4f}'.format\n",
    "pd.set_option('display.max_columns', 500)\n",
    "pd.set_option('display.max_colwidth', None) "
   ]
  },
  {
   "cell_type": "markdown",
   "metadata": {
    "tags": []
   },
   "source": [
    "## Read Data"
   ]
  },
  {
   "cell_type": "code",
   "execution_count": null,
   "metadata": {},
   "outputs": [],
   "source": [
    "df_auto = pd.read_csv(\"data/car_prices.csv\")\n",
    "df_auto.head()"
   ]
  },
  {
   "cell_type": "code",
   "execution_count": 31,
   "metadata": {
    "tags": []
   },
   "outputs": [
    {
     "data": {
      "text/html": [
       "<div>\n",
       "<style scoped>\n",
       "    .dataframe tbody tr th:only-of-type {\n",
       "        vertical-align: middle;\n",
       "    }\n",
       "\n",
       "    .dataframe tbody tr th {\n",
       "        vertical-align: top;\n",
       "    }\n",
       "\n",
       "    .dataframe thead th {\n",
       "        text-align: right;\n",
       "    }\n",
       "</style>\n",
       "<table border=\"1\" class=\"dataframe\">\n",
       "  <thead>\n",
       "    <tr style=\"text-align: right;\">\n",
       "      <th></th>\n",
       "      <th>car_ID</th>\n",
       "      <th>symboling</th>\n",
       "      <th>wheelbase</th>\n",
       "      <th>carlength</th>\n",
       "      <th>carwidth</th>\n",
       "      <th>carheight</th>\n",
       "      <th>curbweight</th>\n",
       "      <th>enginesize</th>\n",
       "      <th>boreratio</th>\n",
       "      <th>stroke</th>\n",
       "      <th>compressionratio</th>\n",
       "      <th>horsepower</th>\n",
       "      <th>peakrpm</th>\n",
       "      <th>citympg</th>\n",
       "      <th>highwaympg</th>\n",
       "      <th>price</th>\n",
       "    </tr>\n",
       "  </thead>\n",
       "  <tbody>\n",
       "    <tr>\n",
       "      <th>count</th>\n",
       "      <td>205.0000</td>\n",
       "      <td>205.0000</td>\n",
       "      <td>205.0000</td>\n",
       "      <td>205.0000</td>\n",
       "      <td>205.0000</td>\n",
       "      <td>205.0000</td>\n",
       "      <td>205.0000</td>\n",
       "      <td>205.0000</td>\n",
       "      <td>205.0000</td>\n",
       "      <td>205.0000</td>\n",
       "      <td>205.0000</td>\n",
       "      <td>205.0000</td>\n",
       "      <td>205.0000</td>\n",
       "      <td>205.0000</td>\n",
       "      <td>205.0000</td>\n",
       "      <td>205.0000</td>\n",
       "    </tr>\n",
       "    <tr>\n",
       "      <th>mean</th>\n",
       "      <td>103.0000</td>\n",
       "      <td>0.8341</td>\n",
       "      <td>98.7566</td>\n",
       "      <td>174.0493</td>\n",
       "      <td>65.9078</td>\n",
       "      <td>53.7249</td>\n",
       "      <td>2555.5659</td>\n",
       "      <td>126.9073</td>\n",
       "      <td>3.3298</td>\n",
       "      <td>3.2554</td>\n",
       "      <td>10.1425</td>\n",
       "      <td>104.1171</td>\n",
       "      <td>5125.1220</td>\n",
       "      <td>25.2195</td>\n",
       "      <td>30.7512</td>\n",
       "      <td>13276.7106</td>\n",
       "    </tr>\n",
       "    <tr>\n",
       "      <th>std</th>\n",
       "      <td>59.3226</td>\n",
       "      <td>1.2453</td>\n",
       "      <td>6.0218</td>\n",
       "      <td>12.3373</td>\n",
       "      <td>2.1452</td>\n",
       "      <td>2.4435</td>\n",
       "      <td>520.6802</td>\n",
       "      <td>41.6427</td>\n",
       "      <td>0.2708</td>\n",
       "      <td>0.3136</td>\n",
       "      <td>3.9720</td>\n",
       "      <td>39.5442</td>\n",
       "      <td>476.9856</td>\n",
       "      <td>6.5421</td>\n",
       "      <td>6.8864</td>\n",
       "      <td>7988.8523</td>\n",
       "    </tr>\n",
       "    <tr>\n",
       "      <th>min</th>\n",
       "      <td>1.0000</td>\n",
       "      <td>-2.0000</td>\n",
       "      <td>86.6000</td>\n",
       "      <td>141.1000</td>\n",
       "      <td>60.3000</td>\n",
       "      <td>47.8000</td>\n",
       "      <td>1488.0000</td>\n",
       "      <td>61.0000</td>\n",
       "      <td>2.5400</td>\n",
       "      <td>2.0700</td>\n",
       "      <td>7.0000</td>\n",
       "      <td>48.0000</td>\n",
       "      <td>4150.0000</td>\n",
       "      <td>13.0000</td>\n",
       "      <td>16.0000</td>\n",
       "      <td>5118.0000</td>\n",
       "    </tr>\n",
       "    <tr>\n",
       "      <th>25%</th>\n",
       "      <td>52.0000</td>\n",
       "      <td>0.0000</td>\n",
       "      <td>94.5000</td>\n",
       "      <td>166.3000</td>\n",
       "      <td>64.1000</td>\n",
       "      <td>52.0000</td>\n",
       "      <td>2145.0000</td>\n",
       "      <td>97.0000</td>\n",
       "      <td>3.1500</td>\n",
       "      <td>3.1100</td>\n",
       "      <td>8.6000</td>\n",
       "      <td>70.0000</td>\n",
       "      <td>4800.0000</td>\n",
       "      <td>19.0000</td>\n",
       "      <td>25.0000</td>\n",
       "      <td>7788.0000</td>\n",
       "    </tr>\n",
       "    <tr>\n",
       "      <th>50%</th>\n",
       "      <td>103.0000</td>\n",
       "      <td>1.0000</td>\n",
       "      <td>97.0000</td>\n",
       "      <td>173.2000</td>\n",
       "      <td>65.5000</td>\n",
       "      <td>54.1000</td>\n",
       "      <td>2414.0000</td>\n",
       "      <td>120.0000</td>\n",
       "      <td>3.3100</td>\n",
       "      <td>3.2900</td>\n",
       "      <td>9.0000</td>\n",
       "      <td>95.0000</td>\n",
       "      <td>5200.0000</td>\n",
       "      <td>24.0000</td>\n",
       "      <td>30.0000</td>\n",
       "      <td>10295.0000</td>\n",
       "    </tr>\n",
       "    <tr>\n",
       "      <th>75%</th>\n",
       "      <td>154.0000</td>\n",
       "      <td>2.0000</td>\n",
       "      <td>102.4000</td>\n",
       "      <td>183.1000</td>\n",
       "      <td>66.9000</td>\n",
       "      <td>55.5000</td>\n",
       "      <td>2935.0000</td>\n",
       "      <td>141.0000</td>\n",
       "      <td>3.5800</td>\n",
       "      <td>3.4100</td>\n",
       "      <td>9.4000</td>\n",
       "      <td>116.0000</td>\n",
       "      <td>5500.0000</td>\n",
       "      <td>30.0000</td>\n",
       "      <td>34.0000</td>\n",
       "      <td>16503.0000</td>\n",
       "    </tr>\n",
       "    <tr>\n",
       "      <th>max</th>\n",
       "      <td>205.0000</td>\n",
       "      <td>3.0000</td>\n",
       "      <td>120.9000</td>\n",
       "      <td>208.1000</td>\n",
       "      <td>72.3000</td>\n",
       "      <td>59.8000</td>\n",
       "      <td>4066.0000</td>\n",
       "      <td>326.0000</td>\n",
       "      <td>3.9400</td>\n",
       "      <td>4.1700</td>\n",
       "      <td>23.0000</td>\n",
       "      <td>288.0000</td>\n",
       "      <td>6600.0000</td>\n",
       "      <td>49.0000</td>\n",
       "      <td>54.0000</td>\n",
       "      <td>45400.0000</td>\n",
       "    </tr>\n",
       "  </tbody>\n",
       "</table>\n",
       "</div>"
      ],
      "text/plain": [
       "        car_ID  symboling  wheelbase  carlength  carwidth  carheight  \\\n",
       "count 205.0000   205.0000   205.0000   205.0000  205.0000   205.0000   \n",
       "mean  103.0000     0.8341    98.7566   174.0493   65.9078    53.7249   \n",
       "std    59.3226     1.2453     6.0218    12.3373    2.1452     2.4435   \n",
       "min     1.0000    -2.0000    86.6000   141.1000   60.3000    47.8000   \n",
       "25%    52.0000     0.0000    94.5000   166.3000   64.1000    52.0000   \n",
       "50%   103.0000     1.0000    97.0000   173.2000   65.5000    54.1000   \n",
       "75%   154.0000     2.0000   102.4000   183.1000   66.9000    55.5000   \n",
       "max   205.0000     3.0000   120.9000   208.1000   72.3000    59.8000   \n",
       "\n",
       "       curbweight  enginesize  boreratio   stroke  compressionratio  \\\n",
       "count    205.0000    205.0000   205.0000 205.0000          205.0000   \n",
       "mean    2555.5659    126.9073     3.3298   3.2554           10.1425   \n",
       "std      520.6802     41.6427     0.2708   0.3136            3.9720   \n",
       "min     1488.0000     61.0000     2.5400   2.0700            7.0000   \n",
       "25%     2145.0000     97.0000     3.1500   3.1100            8.6000   \n",
       "50%     2414.0000    120.0000     3.3100   3.2900            9.0000   \n",
       "75%     2935.0000    141.0000     3.5800   3.4100            9.4000   \n",
       "max     4066.0000    326.0000     3.9400   4.1700           23.0000   \n",
       "\n",
       "       horsepower   peakrpm  citympg  highwaympg      price  \n",
       "count    205.0000  205.0000 205.0000    205.0000   205.0000  \n",
       "mean     104.1171 5125.1220  25.2195     30.7512 13276.7106  \n",
       "std       39.5442  476.9856   6.5421      6.8864  7988.8523  \n",
       "min       48.0000 4150.0000  13.0000     16.0000  5118.0000  \n",
       "25%       70.0000 4800.0000  19.0000     25.0000  7788.0000  \n",
       "50%       95.0000 5200.0000  24.0000     30.0000 10295.0000  \n",
       "75%      116.0000 5500.0000  30.0000     34.0000 16503.0000  \n",
       "max      288.0000 6600.0000  49.0000     54.0000 45400.0000  "
      ]
     },
     "execution_count": 31,
     "metadata": {},
     "output_type": "execute_result"
    }
   ],
   "source": [
    "df_auto.describe()"
   ]
  },
  {
   "cell_type": "markdown",
   "metadata": {
    "tags": []
   },
   "source": [
    "## Clean Data"
   ]
  },
  {
   "cell_type": "markdown",
   "metadata": {
    "tags": []
   },
   "source": [
    "Drop ```car_ID``` based on business knowledge."
   ]
  },
  {
   "cell_type": "code",
   "execution_count": 32,
   "metadata": {
    "tags": []
   },
   "outputs": [],
   "source": [
    "df_auto = df_auto.drop(['car_ID'], axis=1)"
   ]
  },
  {
   "cell_type": "code",
   "execution_count": 33,
   "metadata": {
    "tags": []
   },
   "outputs": [
    {
     "data": {
      "text/plain": [
       "symboling             int64\n",
       "CarName              object\n",
       "fueltype             object\n",
       "aspiration           object\n",
       "doornumber           object\n",
       "carbody              object\n",
       "drivewheel           object\n",
       "enginelocation       object\n",
       "wheelbase           float64\n",
       "carlength           float64\n",
       "carwidth            float64\n",
       "carheight           float64\n",
       "curbweight            int64\n",
       "enginetype           object\n",
       "cylindernumber       object\n",
       "enginesize            int64\n",
       "fuelsystem           object\n",
       "boreratio           float64\n",
       "stroke              float64\n",
       "compressionratio    float64\n",
       "horsepower            int64\n",
       "peakrpm               int64\n",
       "citympg               int64\n",
       "highwaympg            int64\n",
       "price               float64\n",
       "dtype: object"
      ]
     },
     "execution_count": 33,
     "metadata": {},
     "output_type": "execute_result"
    }
   ],
   "source": [
    "df_auto.dtypes"
   ]
  },
  {
   "cell_type": "markdown",
   "metadata": {
    "tags": []
   },
   "source": [
    "#### Standardize on one name for each make of car"
   ]
  },
  {
   "cell_type": "markdown",
   "metadata": {
    "tags": []
   },
   "source": [
    "Extract company from ```CarName```."
   ]
  },
  {
   "cell_type": "code",
   "execution_count": 34,
   "metadata": {
    "tags": []
   },
   "outputs": [],
   "source": [
    "df_auto['CarName'] = df_auto['CarName'].str.split(' ', expand=True)"
   ]
  },
  {
   "cell_type": "code",
   "execution_count": 35,
   "metadata": {
    "tags": []
   },
   "outputs": [],
   "source": [
    "df_auto['CarName'] = df_auto['CarName'].replace(\n",
    "    {'maxda': 'mazda', \n",
    "     'nissan': 'Nissan', \n",
    "     'porcshce': 'porsche', \n",
    "     'toyouta': 'toyota', \n",
    "     'vokswagen': 'volkswagen', \n",
    "     'vw': 'volkswagen'})"
   ]
  },
  {
   "cell_type": "markdown",
   "metadata": {
    "tags": []
   },
   "source": [
    "#### Make ```Symboling``` Categorical"
   ]
  },
  {
   "cell_type": "markdown",
   "metadata": {
    "tags": []
   },
   "source": [
    "Though numeric, ```symboling``` functions more like a categorical variable (per dictionary file). \n",
    "Cars are initially assigned a risk factor symbol associated with its price. \n",
    "Then, if it is more risky (or less), this symbol is adjusted by moving it up (or down) the scale. \n",
    "Actuarians call this process \"symboling\". A value of +3 indicates that the auto is risky, -3 that it is probably pretty safe.\n"
   ]
  },
  {
   "cell_type": "code",
   "execution_count": 36,
   "metadata": {
    "tags": []
   },
   "outputs": [],
   "source": [
    "df_auto['symboling'] = df_auto['symboling'].astype('str')"
   ]
  },
  {
   "cell_type": "markdown",
   "metadata": {
    "tags": []
   },
   "source": [
    "Check for duplicates."
   ]
  },
  {
   "cell_type": "code",
   "execution_count": 37,
   "metadata": {
    "tags": []
   },
   "outputs": [
    {
     "data": {
      "text/html": [
       "<div>\n",
       "<style scoped>\n",
       "    .dataframe tbody tr th:only-of-type {\n",
       "        vertical-align: middle;\n",
       "    }\n",
       "\n",
       "    .dataframe tbody tr th {\n",
       "        vertical-align: top;\n",
       "    }\n",
       "\n",
       "    .dataframe thead th {\n",
       "        text-align: right;\n",
       "    }\n",
       "</style>\n",
       "<table border=\"1\" class=\"dataframe\">\n",
       "  <thead>\n",
       "    <tr style=\"text-align: right;\">\n",
       "      <th></th>\n",
       "      <th>symboling</th>\n",
       "      <th>CarName</th>\n",
       "      <th>fueltype</th>\n",
       "      <th>aspiration</th>\n",
       "      <th>doornumber</th>\n",
       "      <th>carbody</th>\n",
       "      <th>drivewheel</th>\n",
       "      <th>enginelocation</th>\n",
       "      <th>wheelbase</th>\n",
       "      <th>carlength</th>\n",
       "      <th>carwidth</th>\n",
       "      <th>carheight</th>\n",
       "      <th>curbweight</th>\n",
       "      <th>enginetype</th>\n",
       "      <th>cylindernumber</th>\n",
       "      <th>enginesize</th>\n",
       "      <th>fuelsystem</th>\n",
       "      <th>boreratio</th>\n",
       "      <th>stroke</th>\n",
       "      <th>compressionratio</th>\n",
       "      <th>horsepower</th>\n",
       "      <th>peakrpm</th>\n",
       "      <th>citympg</th>\n",
       "      <th>highwaympg</th>\n",
       "      <th>price</th>\n",
       "    </tr>\n",
       "  </thead>\n",
       "  <tbody>\n",
       "  </tbody>\n",
       "</table>\n",
       "</div>"
      ],
      "text/plain": [
       "Empty DataFrame\n",
       "Columns: [symboling, CarName, fueltype, aspiration, doornumber, carbody, drivewheel, enginelocation, wheelbase, carlength, carwidth, carheight, curbweight, enginetype, cylindernumber, enginesize, fuelsystem, boreratio, stroke, compressionratio, horsepower, peakrpm, citympg, highwaympg, price]\n",
       "Index: []"
      ]
     },
     "execution_count": 37,
     "metadata": {},
     "output_type": "execute_result"
    }
   ],
   "source": [
    "df_auto.loc[df_auto.duplicated()]"
   ]
  },
  {
   "cell_type": "code",
   "execution_count": 38,
   "metadata": {
    "tags": []
   },
   "outputs": [
    {
     "data": {
      "text/html": [
       "<div>\n",
       "<style scoped>\n",
       "    .dataframe tbody tr th:only-of-type {\n",
       "        vertical-align: middle;\n",
       "    }\n",
       "\n",
       "    .dataframe tbody tr th {\n",
       "        vertical-align: top;\n",
       "    }\n",
       "\n",
       "    .dataframe thead th {\n",
       "        text-align: right;\n",
       "    }\n",
       "</style>\n",
       "<table border=\"1\" class=\"dataframe\">\n",
       "  <thead>\n",
       "    <tr style=\"text-align: right;\">\n",
       "      <th></th>\n",
       "      <th>symboling</th>\n",
       "      <th>CarName</th>\n",
       "      <th>fueltype</th>\n",
       "      <th>aspiration</th>\n",
       "      <th>doornumber</th>\n",
       "      <th>carbody</th>\n",
       "      <th>drivewheel</th>\n",
       "      <th>enginelocation</th>\n",
       "      <th>wheelbase</th>\n",
       "      <th>carlength</th>\n",
       "      <th>carwidth</th>\n",
       "      <th>carheight</th>\n",
       "      <th>curbweight</th>\n",
       "      <th>enginetype</th>\n",
       "      <th>cylindernumber</th>\n",
       "      <th>enginesize</th>\n",
       "      <th>fuelsystem</th>\n",
       "      <th>boreratio</th>\n",
       "      <th>stroke</th>\n",
       "      <th>compressionratio</th>\n",
       "      <th>horsepower</th>\n",
       "      <th>peakrpm</th>\n",
       "      <th>citympg</th>\n",
       "      <th>highwaympg</th>\n",
       "      <th>price</th>\n",
       "    </tr>\n",
       "  </thead>\n",
       "  <tbody>\n",
       "    <tr>\n",
       "      <th>0</th>\n",
       "      <td>3</td>\n",
       "      <td>alfa-romero</td>\n",
       "      <td>gas</td>\n",
       "      <td>std</td>\n",
       "      <td>two</td>\n",
       "      <td>convertible</td>\n",
       "      <td>rwd</td>\n",
       "      <td>front</td>\n",
       "      <td>88.6000</td>\n",
       "      <td>168.8000</td>\n",
       "      <td>64.1000</td>\n",
       "      <td>48.8000</td>\n",
       "      <td>2548</td>\n",
       "      <td>dohc</td>\n",
       "      <td>four</td>\n",
       "      <td>130</td>\n",
       "      <td>mpfi</td>\n",
       "      <td>3.4700</td>\n",
       "      <td>2.6800</td>\n",
       "      <td>9.0000</td>\n",
       "      <td>111</td>\n",
       "      <td>5000</td>\n",
       "      <td>21</td>\n",
       "      <td>27</td>\n",
       "      <td>13495.0000</td>\n",
       "    </tr>\n",
       "    <tr>\n",
       "      <th>1</th>\n",
       "      <td>3</td>\n",
       "      <td>alfa-romero</td>\n",
       "      <td>gas</td>\n",
       "      <td>std</td>\n",
       "      <td>two</td>\n",
       "      <td>convertible</td>\n",
       "      <td>rwd</td>\n",
       "      <td>front</td>\n",
       "      <td>88.6000</td>\n",
       "      <td>168.8000</td>\n",
       "      <td>64.1000</td>\n",
       "      <td>48.8000</td>\n",
       "      <td>2548</td>\n",
       "      <td>dohc</td>\n",
       "      <td>four</td>\n",
       "      <td>130</td>\n",
       "      <td>mpfi</td>\n",
       "      <td>3.4700</td>\n",
       "      <td>2.6800</td>\n",
       "      <td>9.0000</td>\n",
       "      <td>111</td>\n",
       "      <td>5000</td>\n",
       "      <td>21</td>\n",
       "      <td>27</td>\n",
       "      <td>16500.0000</td>\n",
       "    </tr>\n",
       "    <tr>\n",
       "      <th>2</th>\n",
       "      <td>1</td>\n",
       "      <td>alfa-romero</td>\n",
       "      <td>gas</td>\n",
       "      <td>std</td>\n",
       "      <td>two</td>\n",
       "      <td>hatchback</td>\n",
       "      <td>rwd</td>\n",
       "      <td>front</td>\n",
       "      <td>94.5000</td>\n",
       "      <td>171.2000</td>\n",
       "      <td>65.5000</td>\n",
       "      <td>52.4000</td>\n",
       "      <td>2823</td>\n",
       "      <td>ohcv</td>\n",
       "      <td>six</td>\n",
       "      <td>152</td>\n",
       "      <td>mpfi</td>\n",
       "      <td>2.6800</td>\n",
       "      <td>3.4700</td>\n",
       "      <td>9.0000</td>\n",
       "      <td>154</td>\n",
       "      <td>5000</td>\n",
       "      <td>19</td>\n",
       "      <td>26</td>\n",
       "      <td>16500.0000</td>\n",
       "    </tr>\n",
       "    <tr>\n",
       "      <th>3</th>\n",
       "      <td>2</td>\n",
       "      <td>audi</td>\n",
       "      <td>gas</td>\n",
       "      <td>std</td>\n",
       "      <td>four</td>\n",
       "      <td>sedan</td>\n",
       "      <td>fwd</td>\n",
       "      <td>front</td>\n",
       "      <td>99.8000</td>\n",
       "      <td>176.6000</td>\n",
       "      <td>66.2000</td>\n",
       "      <td>54.3000</td>\n",
       "      <td>2337</td>\n",
       "      <td>ohc</td>\n",
       "      <td>four</td>\n",
       "      <td>109</td>\n",
       "      <td>mpfi</td>\n",
       "      <td>3.1900</td>\n",
       "      <td>3.4000</td>\n",
       "      <td>10.0000</td>\n",
       "      <td>102</td>\n",
       "      <td>5500</td>\n",
       "      <td>24</td>\n",
       "      <td>30</td>\n",
       "      <td>13950.0000</td>\n",
       "    </tr>\n",
       "    <tr>\n",
       "      <th>4</th>\n",
       "      <td>2</td>\n",
       "      <td>audi</td>\n",
       "      <td>gas</td>\n",
       "      <td>std</td>\n",
       "      <td>four</td>\n",
       "      <td>sedan</td>\n",
       "      <td>4wd</td>\n",
       "      <td>front</td>\n",
       "      <td>99.4000</td>\n",
       "      <td>176.6000</td>\n",
       "      <td>66.4000</td>\n",
       "      <td>54.3000</td>\n",
       "      <td>2824</td>\n",
       "      <td>ohc</td>\n",
       "      <td>five</td>\n",
       "      <td>136</td>\n",
       "      <td>mpfi</td>\n",
       "      <td>3.1900</td>\n",
       "      <td>3.4000</td>\n",
       "      <td>8.0000</td>\n",
       "      <td>115</td>\n",
       "      <td>5500</td>\n",
       "      <td>18</td>\n",
       "      <td>22</td>\n",
       "      <td>17450.0000</td>\n",
       "    </tr>\n",
       "  </tbody>\n",
       "</table>\n",
       "</div>"
      ],
      "text/plain": [
       "  symboling      CarName fueltype aspiration doornumber      carbody  \\\n",
       "0         3  alfa-romero      gas        std        two  convertible   \n",
       "1         3  alfa-romero      gas        std        two  convertible   \n",
       "2         1  alfa-romero      gas        std        two    hatchback   \n",
       "3         2         audi      gas        std       four        sedan   \n",
       "4         2         audi      gas        std       four        sedan   \n",
       "\n",
       "  drivewheel enginelocation  wheelbase  carlength  carwidth  carheight  \\\n",
       "0        rwd          front    88.6000   168.8000   64.1000    48.8000   \n",
       "1        rwd          front    88.6000   168.8000   64.1000    48.8000   \n",
       "2        rwd          front    94.5000   171.2000   65.5000    52.4000   \n",
       "3        fwd          front    99.8000   176.6000   66.2000    54.3000   \n",
       "4        4wd          front    99.4000   176.6000   66.4000    54.3000   \n",
       "\n",
       "   curbweight enginetype cylindernumber  enginesize fuelsystem  boreratio  \\\n",
       "0        2548       dohc           four         130       mpfi     3.4700   \n",
       "1        2548       dohc           four         130       mpfi     3.4700   \n",
       "2        2823       ohcv            six         152       mpfi     2.6800   \n",
       "3        2337        ohc           four         109       mpfi     3.1900   \n",
       "4        2824        ohc           five         136       mpfi     3.1900   \n",
       "\n",
       "   stroke  compressionratio  horsepower  peakrpm  citympg  highwaympg  \\\n",
       "0  2.6800            9.0000         111     5000       21          27   \n",
       "1  2.6800            9.0000         111     5000       21          27   \n",
       "2  3.4700            9.0000         154     5000       19          26   \n",
       "3  3.4000           10.0000         102     5500       24          30   \n",
       "4  3.4000            8.0000         115     5500       18          22   \n",
       "\n",
       "       price  \n",
       "0 13495.0000  \n",
       "1 16500.0000  \n",
       "2 16500.0000  \n",
       "3 13950.0000  \n",
       "4 17450.0000  "
      ]
     },
     "execution_count": 38,
     "metadata": {},
     "output_type": "execute_result"
    }
   ],
   "source": [
    "df_auto.head()"
   ]
  },
  {
   "cell_type": "markdown",
   "metadata": {
    "tags": []
   },
   "source": [
    "## Separate numerical and categorical variables"
   ]
  },
  {
   "cell_type": "code",
   "execution_count": 39,
   "metadata": {
    "tags": []
   },
   "outputs": [],
   "source": [
    "cat_col = df_auto.select_dtypes(include=['object']).columns\n",
    "num_col = df_auto.select_dtypes(exclude=['object']).columns\n",
    "df_cat = df_auto[cat_col]\n",
    "df_num = df_auto[num_col]"
   ]
  },
  {
   "cell_type": "markdown",
   "metadata": {
    "tags": []
   },
   "source": [
    "## Visualize Data"
   ]
  },
  {
   "cell_type": "markdown",
   "metadata": {
    "tags": []
   },
   "source": [
    "Visualize mumber of models by make. This is a surrogate for popularity."
   ]
  },
  {
   "cell_type": "code",
   "execution_count": 40,
   "metadata": {
    "tags": []
   },
   "outputs": [
    {
     "data": {
      "text/plain": [
       "Text(0, 0.5, 'Count of Cars')"
      ]
     },
     "execution_count": 40,
     "metadata": {},
     "output_type": "execute_result"
    },
    {
     "data": {
      "image/png": "[encoded data removed]",
      "text/plain": [
       "<Figure size 1080x576 with 1 Axes>"
      ]
     },
     "metadata": {
      "needs_background": "light"
     },
     "output_type": "display_data"
    }
   ],
   "source": [
    "import matplotlib.pyplot as plt\n",
    "plt.rcParams['figure.figsize'] = [15,8]\n",
    "ax=df_auto['CarName'].value_counts().plot(kind='bar',\n",
    "                                          stacked=True, \n",
    "                                          colormap = 'Set1')\n",
    "ax.title.set_text('CarName')\n",
    "plt.xlabel(\"Names of the Car\",fontweight = 'bold')\n",
    "plt.ylabel(\"Count of Cars\",fontweight = 'bold')"
   ]
  },
  {
   "cell_type": "markdown",
   "metadata": {
    "tags": []
   },
   "source": [
    "#### Distribution of car prices"
   ]
  },
  {
   "cell_type": "code",
   "execution_count": 41,
   "metadata": {
    "tags": []
   },
   "outputs": [
    {
     "data": {
      "text/plain": [
       "<AxesSubplot:title={'center':'Car Price Distribution Plot'}, xlabel='price', ylabel='Count'>"
      ]
     },
     "execution_count": 41,
     "metadata": {},
     "output_type": "execute_result"
    },
    {
     "data": {
      "image/png": "[encoded data removed]",
      "text/plain": [
       "<Figure size 576x576 with 1 Axes>"
      ]
     },
     "metadata": {
      "needs_background": "light"
     },
     "output_type": "display_data"
    }
   ],
   "source": [
    "import seaborn as sns\n",
    "plt.figure(figsize=(8,8))\n",
    "\n",
    "plt.title('Car Price Distribution Plot')\n",
    "sns.histplot(df_auto['price'])"
   ]
  },
  {
   "cell_type": "markdown",
   "metadata": {
    "tags": []
   },
   "source": [
    "Insights:\n",
    "- Car prices are right skewed."
   ]
  },
  {
   "cell_type": "markdown",
   "metadata": {
    "tags": []
   },
   "source": [
    "#### Analyze Outliers"
   ]
  },
  {
   "cell_type": "code",
   "execution_count": 42,
   "metadata": {
    "tags": []
   },
   "outputs": [
    {
     "data": {
      "text/plain": [
       "(205, 25)"
      ]
     },
     "execution_count": 42,
     "metadata": {},
     "output_type": "execute_result"
    },
    {
     "data": {
      "image/png": "[encoded data removed]",
      "text/plain": [
       "<Figure size 576x576 with 1 Axes>"
      ]
     },
     "metadata": {
      "needs_background": "light"
     },
     "output_type": "display_data"
    }
   ],
   "source": [
    "\n",
    "outliers = ['price']\n",
    "plt.rcParams['figure.figsize'] = [8,8]\n",
    "sns.boxplot(data=df_auto[outliers], orient=\"v\", palette=\"Set1\", \n",
    "            whis=1.5,saturation=1, width=0.7)\n",
    "plt.title(\"Outliers Variable Distribution\", fontsize=14, \n",
    "          fontweight='bold')\n",
    "plt.ylabel(\"Price Range\", fontweight='bold')\n",
    "plt.xlabel(\"Continuous Variable\", fontweight='bold')\n",
    "df_auto.shape"
   ]
  },
  {
   "cell_type": "markdown",
   "metadata": {
    "tags": []
   },
   "source": [
    "Insights:\n",
    "\n",
    "There are some price ranges above $36,000 which can be termed as outliers but let's not remove those. Rather, we will use standardization scaling."
   ]
  },
  {
   "cell_type": "markdown",
   "metadata": {
    "tags": []
   },
   "source": [
    "#### Visualize car size and engine variables"
   ]
  },
  {
   "cell_type": "code",
   "execution_count": 43,
   "metadata": {
    "tags": []
   },
   "outputs": [
    {
     "data": {
      "image/png": "[encoded data removed]",
      "text/plain": [
       "<Figure size 900x180 with 5 Axes>"
      ]
     },
     "metadata": {
      "needs_background": "light"
     },
     "output_type": "display_data"
    }
   ],
   "source": [
    "car_size_cols = ['carwidth', 'carlength', 'curbweight', 'carheight', \n",
    "                 'wheelbase']\n",
    "ax = sns.pairplot(data=df_num, y_vars=['price'], x_vars=car_size_cols)"
   ]
  },
  {
   "cell_type": "code",
   "execution_count": 44,
   "metadata": {
    "tags": []
   },
   "outputs": [
    {
     "data": {
      "image/png": "[encoded data removed]",
      "text/plain": [
       "<Figure size 900x180 with 5 Axes>"
      ]
     },
     "metadata": {
      "needs_background": "light"
     },
     "output_type": "display_data"
    }
   ],
   "source": [
    "engine_cols = ['enginesize', 'horsepower', 'boreratio', 'citympg', \n",
    "               'highwaympg']\n",
    "ax = sns.pairplot(data=df_num, y_vars=['price'], x_vars=engine_cols)"
   ]
  },
  {
   "cell_type": "markdown",
   "metadata": {
    "tags": []
   },
   "source": [
    "Insights:\n",
    "- ```carwidth```, ```carlength```, ```curbweight```, ```enginesize```, ```wheelbase```,  \n",
    "  ```horsepower```, and ```boreratio``` seem to have a positive correlation \n",
    "  with price.\n",
    "- ```carheight``` does not show any significant trend with price.\n",
    "- ```citympg``` and ```highwaympg``` seem to have a significant negative correlation with price."
   ]
  },
  {
   "cell_type": "markdown",
   "metadata": {
    "tags": []
   },
   "source": [
    "#### Visualize Categorical Variables"
   ]
  },
  {
   "cell_type": "code",
   "execution_count": 45,
   "metadata": {
    "tags": []
   },
   "outputs": [
    {
     "data": {
      "image/png": "[encoded data removed]",
      "text/plain": [
       "<Figure size 1440x1080 with 9 Axes>"
      ]
     },
     "metadata": {
      "needs_background": "light"
     },
     "output_type": "display_data"
    }
   ],
   "source": [
    "plt.figure(figsize=(20, 15))\n",
    "plt.subplot(3,3,1)\n",
    "sns.boxplot(x = 'doornumber', y = 'price', data = df_auto)\n",
    "plt.subplot(3,3,2)\n",
    "sns.boxplot(x = 'fueltype', y = 'price', data = df_auto)\n",
    "plt.subplot(3,3,3)\n",
    "sns.boxplot(x = 'aspiration', y = 'price', data = df_auto)\n",
    "plt.subplot(3,3,4)\n",
    "sns.boxplot(x = 'carbody', y = 'price', data = df_auto)\n",
    "plt.subplot(3,3,5)\n",
    "sns.boxplot(x = 'enginelocation', y = 'price', data = df_auto)\n",
    "plt.subplot(3,3,6)\n",
    "sns.boxplot(x = 'drivewheel', y = 'price', data = df_auto)\n",
    "plt.subplot(3,3,7)\n",
    "sns.boxplot(x = 'enginetype', y = 'price', data = df_auto)\n",
    "plt.subplot(3,3,8)\n",
    "sns.boxplot(x = 'cylindernumber', y = 'price', data = df_auto)\n",
    "plt.subplot(3,3,9)\n",
    "sns.boxplot(x = 'fuelsystem', y = 'price', data = df_auto)\n",
    "plt.show()"
   ]
  },
  {
   "cell_type": "markdown",
   "metadata": {
    "tags": []
   },
   "source": [
    "#### Significant Variables after Visualization\n",
    "- Engine Type, Fuel Type\n",
    "- Car Body , Aspiration , Cylinder Number \n",
    "- Drivewheel , Curbweight , Car Length \n",
    "- Car Length , Car width , Engine Size\n",
    "- Boreratio , Horse Power , Wheel base \n",
    "- citympg , highwaympg , symboling"
   ]
  },
  {
   "cell_type": "markdown",
   "metadata": {
    "tags": []
   },
   "source": [
    "## Modeling"
   ]
  },
  {
   "cell_type": "markdown",
   "metadata": {
    "tags": []
   },
   "source": [
    "### Prep Data"
   ]
  },
  {
   "cell_type": "code",
   "execution_count": 46,
   "metadata": {
    "tags": []
   },
   "outputs": [],
   "source": [
    "sig_col = ['price',\n",
    "           'carwidth', 'carlength', 'curbweight', 'enginesize', \n",
    "           'wheelbase','horsepower', 'citympg', 'highwaympg', \n",
    "           'enginetype', 'fueltype', 'aspiration', 'carbody', \n",
    "           'cylindernumber', 'drivewheel']"
   ]
  },
  {
   "cell_type": "code",
   "execution_count": 47,
   "metadata": {
    "tags": []
   },
   "outputs": [
    {
     "data": {
      "text/plain": [
       "(205, 15)"
      ]
     },
     "execution_count": 47,
     "metadata": {},
     "output_type": "execute_result"
    }
   ],
   "source": [
    "df_auto = df_auto[sig_col]\n",
    "df_auto.shape"
   ]
  },
  {
   "cell_type": "code",
   "execution_count": 48,
   "metadata": {
    "tags": []
   },
   "outputs": [],
   "source": [
    "sig_cat_col = ['fueltype', 'aspiration', 'carbody', 'drivewheel', \n",
    "               'enginetype', 'cylindernumber']"
   ]
  },
  {
   "cell_type": "code",
   "execution_count": 49,
   "metadata": {
    "tags": []
   },
   "outputs": [],
   "source": [
    "from sklearn.preprocessing import LabelEncoder\n",
    "lab=LabelEncoder()\n",
    "df_auto['fueltype']=lab.fit_transform(df_auto['fueltype'])\n",
    "df_auto['aspiration']=lab.fit_transform(df_auto['aspiration'])\n",
    "df_auto['carbody']=lab.fit_transform(df_auto['carbody'])\n",
    "df_auto['drivewheel']=lab.fit_transform(df_auto['drivewheel'])\n",
    "df_auto['enginetype']=lab.fit_transform(df_auto['enginetype'])\n",
    "df_auto['cylindernumber']=lab.fit_transform(df_auto['cylindernumber'])"
   ]
  },
  {
   "cell_type": "code",
   "execution_count": 50,
   "metadata": {
    "tags": []
   },
   "outputs": [
    {
     "data": {
      "text/html": [
       "<div>\n",
       "<style scoped>\n",
       "    .dataframe tbody tr th:only-of-type {\n",
       "        vertical-align: middle;\n",
       "    }\n",
       "\n",
       "    .dataframe tbody tr th {\n",
       "        vertical-align: top;\n",
       "    }\n",
       "\n",
       "    .dataframe thead th {\n",
       "        text-align: right;\n",
       "    }\n",
       "</style>\n",
       "<table border=\"1\" class=\"dataframe\">\n",
       "  <thead>\n",
       "    <tr style=\"text-align: right;\">\n",
       "      <th></th>\n",
       "      <th>price</th>\n",
       "      <th>carwidth</th>\n",
       "      <th>carlength</th>\n",
       "      <th>curbweight</th>\n",
       "      <th>enginesize</th>\n",
       "      <th>wheelbase</th>\n",
       "      <th>horsepower</th>\n",
       "      <th>citympg</th>\n",
       "      <th>highwaympg</th>\n",
       "      <th>enginetype</th>\n",
       "      <th>fueltype</th>\n",
       "      <th>aspiration</th>\n",
       "      <th>carbody</th>\n",
       "      <th>cylindernumber</th>\n",
       "      <th>drivewheel</th>\n",
       "    </tr>\n",
       "  </thead>\n",
       "  <tbody>\n",
       "    <tr>\n",
       "      <th>0</th>\n",
       "      <td>13495.0000</td>\n",
       "      <td>64.1000</td>\n",
       "      <td>168.8000</td>\n",
       "      <td>2548</td>\n",
       "      <td>130</td>\n",
       "      <td>88.6000</td>\n",
       "      <td>111</td>\n",
       "      <td>21</td>\n",
       "      <td>27</td>\n",
       "      <td>0</td>\n",
       "      <td>1</td>\n",
       "      <td>0</td>\n",
       "      <td>0</td>\n",
       "      <td>2</td>\n",
       "      <td>2</td>\n",
       "    </tr>\n",
       "    <tr>\n",
       "      <th>1</th>\n",
       "      <td>16500.0000</td>\n",
       "      <td>64.1000</td>\n",
       "      <td>168.8000</td>\n",
       "      <td>2548</td>\n",
       "      <td>130</td>\n",
       "      <td>88.6000</td>\n",
       "      <td>111</td>\n",
       "      <td>21</td>\n",
       "      <td>27</td>\n",
       "      <td>0</td>\n",
       "      <td>1</td>\n",
       "      <td>0</td>\n",
       "      <td>0</td>\n",
       "      <td>2</td>\n",
       "      <td>2</td>\n",
       "    </tr>\n",
       "    <tr>\n",
       "      <th>2</th>\n",
       "      <td>16500.0000</td>\n",
       "      <td>65.5000</td>\n",
       "      <td>171.2000</td>\n",
       "      <td>2823</td>\n",
       "      <td>152</td>\n",
       "      <td>94.5000</td>\n",
       "      <td>154</td>\n",
       "      <td>19</td>\n",
       "      <td>26</td>\n",
       "      <td>5</td>\n",
       "      <td>1</td>\n",
       "      <td>0</td>\n",
       "      <td>2</td>\n",
       "      <td>3</td>\n",
       "      <td>2</td>\n",
       "    </tr>\n",
       "    <tr>\n",
       "      <th>3</th>\n",
       "      <td>13950.0000</td>\n",
       "      <td>66.2000</td>\n",
       "      <td>176.6000</td>\n",
       "      <td>2337</td>\n",
       "      <td>109</td>\n",
       "      <td>99.8000</td>\n",
       "      <td>102</td>\n",
       "      <td>24</td>\n",
       "      <td>30</td>\n",
       "      <td>3</td>\n",
       "      <td>1</td>\n",
       "      <td>0</td>\n",
       "      <td>3</td>\n",
       "      <td>2</td>\n",
       "      <td>1</td>\n",
       "    </tr>\n",
       "    <tr>\n",
       "      <th>4</th>\n",
       "      <td>17450.0000</td>\n",
       "      <td>66.4000</td>\n",
       "      <td>176.6000</td>\n",
       "      <td>2824</td>\n",
       "      <td>136</td>\n",
       "      <td>99.4000</td>\n",
       "      <td>115</td>\n",
       "      <td>18</td>\n",
       "      <td>22</td>\n",
       "      <td>3</td>\n",
       "      <td>1</td>\n",
       "      <td>0</td>\n",
       "      <td>3</td>\n",
       "      <td>1</td>\n",
       "      <td>0</td>\n",
       "    </tr>\n",
       "  </tbody>\n",
       "</table>\n",
       "</div>"
      ],
      "text/plain": [
       "       price  carwidth  carlength  curbweight  enginesize  wheelbase  \\\n",
       "0 13495.0000   64.1000   168.8000        2548         130    88.6000   \n",
       "1 16500.0000   64.1000   168.8000        2548         130    88.6000   \n",
       "2 16500.0000   65.5000   171.2000        2823         152    94.5000   \n",
       "3 13950.0000   66.2000   176.6000        2337         109    99.8000   \n",
       "4 17450.0000   66.4000   176.6000        2824         136    99.4000   \n",
       "\n",
       "   horsepower  citympg  highwaympg  enginetype  fueltype  aspiration  carbody  \\\n",
       "0         111       21          27           0         1           0        0   \n",
       "1         111       21          27           0         1           0        0   \n",
       "2         154       19          26           5         1           0        2   \n",
       "3         102       24          30           3         1           0        3   \n",
       "4         115       18          22           3         1           0        3   \n",
       "\n",
       "   cylindernumber  drivewheel  \n",
       "0               2           2  \n",
       "1               2           2  \n",
       "2               3           2  \n",
       "3               2           1  \n",
       "4               1           0  "
      ]
     },
     "execution_count": 50,
     "metadata": {},
     "output_type": "execute_result"
    }
   ],
   "source": [
    "df_auto.head()"
   ]
  },
  {
   "cell_type": "markdown",
   "metadata": {
    "tags": []
   },
   "source": [
    "## Correlation Matrix\n"
   ]
  },
  {
   "cell_type": "code",
   "execution_count": 51,
   "metadata": {
    "tags": []
   },
   "outputs": [
    {
     "data": {
      "text/html": [
       "<style  type=\"text/css\" >\n",
       "#T_681e2b02_fc30_11eb_980e_0242ac110044row0_col0,#T_681e2b02_fc30_11eb_980e_0242ac110044row1_col1,#T_681e2b02_fc30_11eb_980e_0242ac110044row2_col2,#T_681e2b02_fc30_11eb_980e_0242ac110044row3_col3,#T_681e2b02_fc30_11eb_980e_0242ac110044row4_col4,#T_681e2b02_fc30_11eb_980e_0242ac110044row5_col5,#T_681e2b02_fc30_11eb_980e_0242ac110044row6_col6,#T_681e2b02_fc30_11eb_980e_0242ac110044row7_col7,#T_681e2b02_fc30_11eb_980e_0242ac110044row8_col8,#T_681e2b02_fc30_11eb_980e_0242ac110044row9_col9,#T_681e2b02_fc30_11eb_980e_0242ac110044row10_col10,#T_681e2b02_fc30_11eb_980e_0242ac110044row11_col11,#T_681e2b02_fc30_11eb_980e_0242ac110044row12_col12,#T_681e2b02_fc30_11eb_980e_0242ac110044row13_col13,#T_681e2b02_fc30_11eb_980e_0242ac110044row14_col14{\n",
       "            background-color:  #fcffa4;\n",
       "            color:  #000000;\n",
       "        }#T_681e2b02_fc30_11eb_980e_0242ac110044row0_col1,#T_681e2b02_fc30_11eb_980e_0242ac110044row1_col0{\n",
       "            background-color:  #fac228;\n",
       "            color:  #000000;\n",
       "        }#T_681e2b02_fc30_11eb_980e_0242ac110044row0_col2,#T_681e2b02_fc30_11eb_980e_0242ac110044row2_col0,#T_681e2b02_fc30_11eb_980e_0242ac110044row4_col2{\n",
       "            background-color:  #fcac11;\n",
       "            color:  #000000;\n",
       "        }#T_681e2b02_fc30_11eb_980e_0242ac110044row0_col3,#T_681e2b02_fc30_11eb_980e_0242ac110044row1_col2{\n",
       "            background-color:  #f5db4c;\n",
       "            color:  #000000;\n",
       "        }#T_681e2b02_fc30_11eb_980e_0242ac110044row0_col4{\n",
       "            background-color:  #f3e35a;\n",
       "            color:  #000000;\n",
       "        }#T_681e2b02_fc30_11eb_980e_0242ac110044row0_col5{\n",
       "            background-color:  #f78410;\n",
       "            color:  #000000;\n",
       "        }#T_681e2b02_fc30_11eb_980e_0242ac110044row0_col6,#T_681e2b02_fc30_11eb_980e_0242ac110044row4_col6{\n",
       "            background-color:  #f7d340;\n",
       "            color:  #000000;\n",
       "        }#T_681e2b02_fc30_11eb_980e_0242ac110044row0_col7,#T_681e2b02_fc30_11eb_980e_0242ac110044row5_col10{\n",
       "            background-color:  #0b0724;\n",
       "            color:  #f1f1f1;\n",
       "        }#T_681e2b02_fc30_11eb_980e_0242ac110044row0_col8,#T_681e2b02_fc30_11eb_980e_0242ac110044row7_col13{\n",
       "            background-color:  #09061f;\n",
       "            color:  #f1f1f1;\n",
       "        }#T_681e2b02_fc30_11eb_980e_0242ac110044row0_col9,#T_681e2b02_fc30_11eb_980e_0242ac110044row7_col12{\n",
       "            background-color:  #310a5c;\n",
       "            color:  #f1f1f1;\n",
       "        }#T_681e2b02_fc30_11eb_980e_0242ac110044row0_col10,#T_681e2b02_fc30_11eb_980e_0242ac110044row9_col11{\n",
       "            background-color:  #470b6a;\n",
       "            color:  #f1f1f1;\n",
       "        }#T_681e2b02_fc30_11eb_980e_0242ac110044row0_col11,#T_681e2b02_fc30_11eb_980e_0242ac110044row9_col1,#T_681e2b02_fc30_11eb_980e_0242ac110044row9_col3{\n",
       "            background-color:  #982766;\n",
       "            color:  #f1f1f1;\n",
       "        }#T_681e2b02_fc30_11eb_980e_0242ac110044row0_col12{\n",
       "            background-color:  #0a0722;\n",
       "            color:  #f1f1f1;\n",
       "        }#T_681e2b02_fc30_11eb_980e_0242ac110044row0_col13{\n",
       "            background-color:  #260c51;\n",
       "            color:  #f1f1f1;\n",
       "        }#T_681e2b02_fc30_11eb_980e_0242ac110044row0_col14,#T_681e2b02_fc30_11eb_980e_0242ac110044row3_col14{\n",
       "            background-color:  #f57b17;\n",
       "            color:  #000000;\n",
       "        }#T_681e2b02_fc30_11eb_980e_0242ac110044row1_col3,#T_681e2b02_fc30_11eb_980e_0242ac110044row3_col2,#T_681e2b02_fc30_11eb_980e_0242ac110044row4_col0,#T_681e2b02_fc30_11eb_980e_0242ac110044row5_col2{\n",
       "            background-color:  #f3e55d;\n",
       "            color:  #000000;\n",
       "        }#T_681e2b02_fc30_11eb_980e_0242ac110044row1_col4,#T_681e2b02_fc30_11eb_980e_0242ac110044row4_col1{\n",
       "            background-color:  #fbba1f;\n",
       "            color:  #000000;\n",
       "        }#T_681e2b02_fc30_11eb_980e_0242ac110044row1_col5{\n",
       "            background-color:  #f9c72f;\n",
       "            color:  #000000;\n",
       "        }#T_681e2b02_fc30_11eb_980e_0242ac110044row1_col6{\n",
       "            background-color:  #fca50a;\n",
       "            color:  #000000;\n",
       "        }#T_681e2b02_fc30_11eb_980e_0242ac110044row1_col7,#T_681e2b02_fc30_11eb_980e_0242ac110044row12_col9{\n",
       "            background-color:  #120a32;\n",
       "            color:  #f1f1f1;\n",
       "        }#T_681e2b02_fc30_11eb_980e_0242ac110044row1_col8,#T_681e2b02_fc30_11eb_980e_0242ac110044row4_col8{\n",
       "            background-color:  #0c0826;\n",
       "            color:  #f1f1f1;\n",
       "        }#T_681e2b02_fc30_11eb_980e_0242ac110044row1_col9,#T_681e2b02_fc30_11eb_980e_0242ac110044row3_col10{\n",
       "            background-color:  #230c4c;\n",
       "            color:  #f1f1f1;\n",
       "        }#T_681e2b02_fc30_11eb_980e_0242ac110044row1_col10{\n",
       "            background-color:  #1e0c45;\n",
       "            color:  #f1f1f1;\n",
       "        }#T_681e2b02_fc30_11eb_980e_0242ac110044row1_col11{\n",
       "            background-color:  #bc3754;\n",
       "            color:  #f1f1f1;\n",
       "        }#T_681e2b02_fc30_11eb_980e_0242ac110044row1_col12{\n",
       "            background-color:  #550f6d;\n",
       "            color:  #f1f1f1;\n",
       "        }#T_681e2b02_fc30_11eb_980e_0242ac110044row1_col13,#T_681e2b02_fc30_11eb_980e_0242ac110044row3_col8,#T_681e2b02_fc30_11eb_980e_0242ac110044row5_col9,#T_681e2b02_fc30_11eb_980e_0242ac110044row6_col7,#T_681e2b02_fc30_11eb_980e_0242ac110044row6_col12,#T_681e2b02_fc30_11eb_980e_0242ac110044row7_col6,#T_681e2b02_fc30_11eb_980e_0242ac110044row7_col14,#T_681e2b02_fc30_11eb_980e_0242ac110044row8_col0,#T_681e2b02_fc30_11eb_980e_0242ac110044row8_col1,#T_681e2b02_fc30_11eb_980e_0242ac110044row8_col2,#T_681e2b02_fc30_11eb_980e_0242ac110044row8_col3,#T_681e2b02_fc30_11eb_980e_0242ac110044row8_col4,#T_681e2b02_fc30_11eb_980e_0242ac110044row8_col5,#T_681e2b02_fc30_11eb_980e_0242ac110044row8_col14,#T_681e2b02_fc30_11eb_980e_0242ac110044row10_col11,#T_681e2b02_fc30_11eb_980e_0242ac110044row11_col10,#T_681e2b02_fc30_11eb_980e_0242ac110044row14_col12{\n",
       "            background-color:  #000004;\n",
       "            color:  #f1f1f1;\n",
       "        }#T_681e2b02_fc30_11eb_980e_0242ac110044row1_col14{\n",
       "            background-color:  #e65d2f;\n",
       "            color:  #000000;\n",
       "        }#T_681e2b02_fc30_11eb_980e_0242ac110044row2_col1,#T_681e2b02_fc30_11eb_980e_0242ac110044row3_col0{\n",
       "            background-color:  #f5d949;\n",
       "            color:  #000000;\n",
       "        }#T_681e2b02_fc30_11eb_980e_0242ac110044row2_col3{\n",
       "            background-color:  #f2e661;\n",
       "            color:  #000000;\n",
       "        }#T_681e2b02_fc30_11eb_980e_0242ac110044row2_col4{\n",
       "            background-color:  #fcaa0f;\n",
       "            color:  #000000;\n",
       "        }#T_681e2b02_fc30_11eb_980e_0242ac110044row2_col5,#T_681e2b02_fc30_11eb_980e_0242ac110044row3_col1{\n",
       "            background-color:  #f4e156;\n",
       "            color:  #000000;\n",
       "        }#T_681e2b02_fc30_11eb_980e_0242ac110044row2_col6,#T_681e2b02_fc30_11eb_980e_0242ac110044row5_col0,#T_681e2b02_fc30_11eb_980e_0242ac110044row14_col0{\n",
       "            background-color:  #f98e09;\n",
       "            color:  #000000;\n",
       "        }#T_681e2b02_fc30_11eb_980e_0242ac110044row2_col7,#T_681e2b02_fc30_11eb_980e_0242ac110044row2_col13,#T_681e2b02_fc30_11eb_980e_0242ac110044row3_col9,#T_681e2b02_fc30_11eb_980e_0242ac110044row4_col12{\n",
       "            background-color:  #0d0829;\n",
       "            color:  #f1f1f1;\n",
       "        }#T_681e2b02_fc30_11eb_980e_0242ac110044row2_col8,#T_681e2b02_fc30_11eb_980e_0242ac110044row11_col13{\n",
       "            background-color:  #08051d;\n",
       "            color:  #f1f1f1;\n",
       "        }#T_681e2b02_fc30_11eb_980e_0242ac110044row2_col9,#T_681e2b02_fc30_11eb_980e_0242ac110044row7_col1,#T_681e2b02_fc30_11eb_980e_0242ac110044row7_col2,#T_681e2b02_fc30_11eb_980e_0242ac110044row7_col3{\n",
       "            background-color:  #02020c;\n",
       "            color:  #f1f1f1;\n",
       "        }#T_681e2b02_fc30_11eb_980e_0242ac110044row2_col10{\n",
       "            background-color:  #240c4f;\n",
       "            color:  #f1f1f1;\n",
       "        }#T_681e2b02_fc30_11eb_980e_0242ac110044row2_col11{\n",
       "            background-color:  #a92e5e;\n",
       "            color:  #f1f1f1;\n",
       "        }#T_681e2b02_fc30_11eb_980e_0242ac110044row2_col12{\n",
       "            background-color:  #9d2964;\n",
       "            color:  #f1f1f1;\n",
       "        }#T_681e2b02_fc30_11eb_980e_0242ac110044row2_col14{\n",
       "            background-color:  #e9612b;\n",
       "            color:  #000000;\n",
       "        }#T_681e2b02_fc30_11eb_980e_0242ac110044row3_col4{\n",
       "            background-color:  #f4dd4f;\n",
       "            color:  #000000;\n",
       "        }#T_681e2b02_fc30_11eb_980e_0242ac110044row3_col5{\n",
       "            background-color:  #fac026;\n",
       "            color:  #000000;\n",
       "        }#T_681e2b02_fc30_11eb_980e_0242ac110044row3_col6,#T_681e2b02_fc30_11eb_980e_0242ac110044row6_col3{\n",
       "            background-color:  #fac42a;\n",
       "            color:  #000000;\n",
       "        }#T_681e2b02_fc30_11eb_980e_0242ac110044row3_col7{\n",
       "            background-color:  #02020e;\n",
       "            color:  #f1f1f1;\n",
       "        }#T_681e2b02_fc30_11eb_980e_0242ac110044row3_col11,#T_681e2b02_fc30_11eb_980e_0242ac110044row11_col0,#T_681e2b02_fc30_11eb_980e_0242ac110044row11_col5{\n",
       "            background-color:  #c13a50;\n",
       "            color:  #f1f1f1;\n",
       "        }#T_681e2b02_fc30_11eb_980e_0242ac110044row3_col12{\n",
       "            background-color:  #540f6d;\n",
       "            color:  #f1f1f1;\n",
       "        }#T_681e2b02_fc30_11eb_980e_0242ac110044row3_col13,#T_681e2b02_fc30_11eb_980e_0242ac110044row12_col13{\n",
       "            background-color:  #1f0c48;\n",
       "            color:  #f1f1f1;\n",
       "        }#T_681e2b02_fc30_11eb_980e_0242ac110044row4_col3{\n",
       "            background-color:  #f4df53;\n",
       "            color:  #000000;\n",
       "        }#T_681e2b02_fc30_11eb_980e_0242ac110044row4_col5{\n",
       "            background-color:  #f68013;\n",
       "            color:  #000000;\n",
       "        }#T_681e2b02_fc30_11eb_980e_0242ac110044row4_col7{\n",
       "            background-color:  #110a30;\n",
       "            color:  #f1f1f1;\n",
       "        }#T_681e2b02_fc30_11eb_980e_0242ac110044row4_col9,#T_681e2b02_fc30_11eb_980e_0242ac110044row10_col5{\n",
       "            background-color:  #2d0b59;\n",
       "            color:  #f1f1f1;\n",
       "        }#T_681e2b02_fc30_11eb_980e_0242ac110044row4_col10{\n",
       "            background-color:  #510e6c;\n",
       "            color:  #f1f1f1;\n",
       "        }#T_681e2b02_fc30_11eb_980e_0242ac110044row4_col11,#T_681e2b02_fc30_11eb_980e_0242ac110044row13_col10{\n",
       "            background-color:  #85216b;\n",
       "            color:  #f1f1f1;\n",
       "        }#T_681e2b02_fc30_11eb_980e_0242ac110044row4_col13,#T_681e2b02_fc30_11eb_980e_0242ac110044row8_col13,#T_681e2b02_fc30_11eb_980e_0242ac110044row13_col12{\n",
       "            background-color:  #140b34;\n",
       "            color:  #f1f1f1;\n",
       "        }#T_681e2b02_fc30_11eb_980e_0242ac110044row4_col14{\n",
       "            background-color:  #ef6c23;\n",
       "            color:  #000000;\n",
       "        }#T_681e2b02_fc30_11eb_980e_0242ac110044row5_col1,#T_681e2b02_fc30_11eb_980e_0242ac110044row5_col3{\n",
       "            background-color:  #f9cb35;\n",
       "            color:  #000000;\n",
       "        }#T_681e2b02_fc30_11eb_980e_0242ac110044row5_col4{\n",
       "            background-color:  #f98b0b;\n",
       "            color:  #000000;\n",
       "        }#T_681e2b02_fc30_11eb_980e_0242ac110044row5_col6{\n",
       "            background-color:  #e8602d;\n",
       "            color:  #000000;\n",
       "        }#T_681e2b02_fc30_11eb_980e_0242ac110044row5_col7{\n",
       "            background-color:  #3b0964;\n",
       "            color:  #f1f1f1;\n",
       "        }#T_681e2b02_fc30_11eb_980e_0242ac110044row5_col8,#T_681e2b02_fc30_11eb_980e_0242ac110044row7_col11{\n",
       "            background-color:  #280b53;\n",
       "            color:  #f1f1f1;\n",
       "        }#T_681e2b02_fc30_11eb_980e_0242ac110044row5_col11{\n",
       "            background-color:  #b0315b;\n",
       "            color:  #f1f1f1;\n",
       "        }#T_681e2b02_fc30_11eb_980e_0242ac110044row5_col12,#T_681e2b02_fc30_11eb_980e_0242ac110044row12_col1{\n",
       "            background-color:  #b43359;\n",
       "            color:  #f1f1f1;\n",
       "        }#T_681e2b02_fc30_11eb_980e_0242ac110044row5_col13{\n",
       "            background-color:  #010106;\n",
       "            color:  #f1f1f1;\n",
       "        }#T_681e2b02_fc30_11eb_980e_0242ac110044row5_col14{\n",
       "            background-color:  #e45a31;\n",
       "            color:  #000000;\n",
       "        }#T_681e2b02_fc30_11eb_980e_0242ac110044row6_col0{\n",
       "            background-color:  #f7d13d;\n",
       "            color:  #000000;\n",
       "        }#T_681e2b02_fc30_11eb_980e_0242ac110044row6_col1{\n",
       "            background-color:  #fc9f07;\n",
       "            color:  #000000;\n",
       "        }#T_681e2b02_fc30_11eb_980e_0242ac110044row6_col2{\n",
       "            background-color:  #f8870e;\n",
       "            color:  #000000;\n",
       "        }#T_681e2b02_fc30_11eb_980e_0242ac110044row6_col4{\n",
       "            background-color:  #f8cf3a;\n",
       "            color:  #000000;\n",
       "        }#T_681e2b02_fc30_11eb_980e_0242ac110044row6_col5,#T_681e2b02_fc30_11eb_980e_0242ac110044row11_col6{\n",
       "            background-color:  #d74b3f;\n",
       "            color:  #f1f1f1;\n",
       "        }#T_681e2b02_fc30_11eb_980e_0242ac110044row6_col8,#T_681e2b02_fc30_11eb_980e_0242ac110044row7_col4{\n",
       "            background-color:  #010108;\n",
       "            color:  #f1f1f1;\n",
       "        }#T_681e2b02_fc30_11eb_980e_0242ac110044row6_col9,#T_681e2b02_fc30_11eb_980e_0242ac110044row8_col12{\n",
       "            background-color:  #210c4a;\n",
       "            color:  #f1f1f1;\n",
       "        }#T_681e2b02_fc30_11eb_980e_0242ac110044row6_col10{\n",
       "            background-color:  #952667;\n",
       "            color:  #f1f1f1;\n",
       "        }#T_681e2b02_fc30_11eb_980e_0242ac110044row6_col11{\n",
       "            background-color:  #ab2f5e;\n",
       "            color:  #f1f1f1;\n",
       "        }#T_681e2b02_fc30_11eb_980e_0242ac110044row6_col13{\n",
       "            background-color:  #5a116e;\n",
       "            color:  #f1f1f1;\n",
       "        }#T_681e2b02_fc30_11eb_980e_0242ac110044row6_col14{\n",
       "            background-color:  #ee6a24;\n",
       "            color:  #000000;\n",
       "        }#T_681e2b02_fc30_11eb_980e_0242ac110044row7_col0,#T_681e2b02_fc30_11eb_980e_0242ac110044row10_col12{\n",
       "            background-color:  #010005;\n",
       "            color:  #f1f1f1;\n",
       "        }#T_681e2b02_fc30_11eb_980e_0242ac110044row7_col5,#T_681e2b02_fc30_11eb_980e_0242ac110044row8_col9{\n",
       "            background-color:  #07051b;\n",
       "            color:  #f1f1f1;\n",
       "        }#T_681e2b02_fc30_11eb_980e_0242ac110044row7_col8,#T_681e2b02_fc30_11eb_980e_0242ac110044row8_col7{\n",
       "            background-color:  #f6fa96;\n",
       "            color:  #000000;\n",
       "        }#T_681e2b02_fc30_11eb_980e_0242ac110044row7_col9{\n",
       "            background-color:  #060419;\n",
       "            color:  #f1f1f1;\n",
       "        }#T_681e2b02_fc30_11eb_980e_0242ac110044row7_col10,#T_681e2b02_fc30_11eb_980e_0242ac110044row8_col11,#T_681e2b02_fc30_11eb_980e_0242ac110044row9_col12{\n",
       "            background-color:  #180c3c;\n",
       "            color:  #f1f1f1;\n",
       "        }#T_681e2b02_fc30_11eb_980e_0242ac110044row8_col6,#T_681e2b02_fc30_11eb_980e_0242ac110044row14_col9{\n",
       "            background-color:  #02010a;\n",
       "            color:  #f1f1f1;\n",
       "        }#T_681e2b02_fc30_11eb_980e_0242ac110044row8_col10{\n",
       "            background-color:  #2b0b57;\n",
       "            color:  #f1f1f1;\n",
       "        }#T_681e2b02_fc30_11eb_980e_0242ac110044row9_col0,#T_681e2b02_fc30_11eb_980e_0242ac110044row12_col8{\n",
       "            background-color:  #a32c61;\n",
       "            color:  #f1f1f1;\n",
       "        }#T_681e2b02_fc30_11eb_980e_0242ac110044row9_col2,#T_681e2b02_fc30_11eb_980e_0242ac110044row9_col10{\n",
       "            background-color:  #7d1e6d;\n",
       "            color:  #f1f1f1;\n",
       "        }#T_681e2b02_fc30_11eb_980e_0242ac110044row9_col4{\n",
       "            background-color:  #9f2a63;\n",
       "            color:  #f1f1f1;\n",
       "        }#T_681e2b02_fc30_11eb_980e_0242ac110044row9_col5,#T_681e2b02_fc30_11eb_980e_0242ac110044row10_col1{\n",
       "            background-color:  #5c126e;\n",
       "            color:  #f1f1f1;\n",
       "        }#T_681e2b02_fc30_11eb_980e_0242ac110044row9_col6{\n",
       "            background-color:  #a82e5f;\n",
       "            color:  #f1f1f1;\n",
       "        }#T_681e2b02_fc30_11eb_980e_0242ac110044row9_col7,#T_681e2b02_fc30_11eb_980e_0242ac110044row13_col0,#T_681e2b02_fc30_11eb_980e_0242ac110044row13_col8{\n",
       "            background-color:  #922568;\n",
       "            color:  #f1f1f1;\n",
       "        }#T_681e2b02_fc30_11eb_980e_0242ac110044row9_col8{\n",
       "            background-color:  #932667;\n",
       "            color:  #f1f1f1;\n",
       "        }#T_681e2b02_fc30_11eb_980e_0242ac110044row9_col13,#T_681e2b02_fc30_11eb_980e_0242ac110044row10_col4,#T_681e2b02_fc30_11eb_980e_0242ac110044row12_col0,#T_681e2b02_fc30_11eb_980e_0242ac110044row12_col4,#T_681e2b02_fc30_11eb_980e_0242ac110044row12_col6{\n",
       "            background-color:  #84206b;\n",
       "            color:  #f1f1f1;\n",
       "        }#T_681e2b02_fc30_11eb_980e_0242ac110044row9_col14,#T_681e2b02_fc30_11eb_980e_0242ac110044row13_col5{\n",
       "            background-color:  #4f0d6c;\n",
       "            color:  #f1f1f1;\n",
       "        }#T_681e2b02_fc30_11eb_980e_0242ac110044row10_col0,#T_681e2b02_fc30_11eb_980e_0242ac110044row13_col2,#T_681e2b02_fc30_11eb_980e_0242ac110044row14_col13{\n",
       "            background-color:  #7f1e6c;\n",
       "            color:  #f1f1f1;\n",
       "        }#T_681e2b02_fc30_11eb_980e_0242ac110044row10_col2,#T_681e2b02_fc30_11eb_980e_0242ac110044row13_col1{\n",
       "            background-color:  #65156e;\n",
       "            color:  #f1f1f1;\n",
       "        }#T_681e2b02_fc30_11eb_980e_0242ac110044row10_col3{\n",
       "            background-color:  #741a6e;\n",
       "            color:  #f1f1f1;\n",
       "        }#T_681e2b02_fc30_11eb_980e_0242ac110044row10_col6{\n",
       "            background-color:  #c83f4b;\n",
       "            color:  #f1f1f1;\n",
       "        }#T_681e2b02_fc30_11eb_980e_0242ac110044row10_col7,#T_681e2b02_fc30_11eb_980e_0242ac110044row11_col8{\n",
       "            background-color:  #6c186e;\n",
       "            color:  #f1f1f1;\n",
       "        }#T_681e2b02_fc30_11eb_980e_0242ac110044row10_col8{\n",
       "            background-color:  #7a1d6d;\n",
       "            color:  #f1f1f1;\n",
       "        }#T_681e2b02_fc30_11eb_980e_0242ac110044row10_col9,#T_681e2b02_fc30_11eb_980e_0242ac110044row13_col11,#T_681e2b02_fc30_11eb_980e_0242ac110044row14_col8,#T_681e2b02_fc30_11eb_980e_0242ac110044row14_col10{\n",
       "            background-color:  #3e0966;\n",
       "            color:  #f1f1f1;\n",
       "        }#T_681e2b02_fc30_11eb_980e_0242ac110044row10_col13{\n",
       "            background-color:  #59106e;\n",
       "            color:  #f1f1f1;\n",
       "        }#T_681e2b02_fc30_11eb_980e_0242ac110044row10_col14{\n",
       "            background-color:  #4a0c6b;\n",
       "            color:  #f1f1f1;\n",
       "        }#T_681e2b02_fc30_11eb_980e_0242ac110044row11_col1{\n",
       "            background-color:  #d84c3e;\n",
       "            color:  #000000;\n",
       "        }#T_681e2b02_fc30_11eb_980e_0242ac110044row11_col2{\n",
       "            background-color:  #ce4347;\n",
       "            color:  #f1f1f1;\n",
       "        }#T_681e2b02_fc30_11eb_980e_0242ac110044row11_col3{\n",
       "            background-color:  #e35933;\n",
       "            color:  #000000;\n",
       "        }#T_681e2b02_fc30_11eb_980e_0242ac110044row11_col4,#T_681e2b02_fc30_11eb_980e_0242ac110044row13_col14{\n",
       "            background-color:  #ae305c;\n",
       "            color:  #f1f1f1;\n",
       "        }#T_681e2b02_fc30_11eb_980e_0242ac110044row11_col7,#T_681e2b02_fc30_11eb_980e_0242ac110044row14_col11{\n",
       "            background-color:  #781c6d;\n",
       "            color:  #f1f1f1;\n",
       "        }#T_681e2b02_fc30_11eb_980e_0242ac110044row11_col9{\n",
       "            background-color:  #030210;\n",
       "            color:  #f1f1f1;\n",
       "        }#T_681e2b02_fc30_11eb_980e_0242ac110044row11_col12{\n",
       "            background-color:  #3d0965;\n",
       "            color:  #f1f1f1;\n",
       "        }#T_681e2b02_fc30_11eb_980e_0242ac110044row11_col14{\n",
       "            background-color:  #82206c;\n",
       "            color:  #f1f1f1;\n",
       "        }#T_681e2b02_fc30_11eb_980e_0242ac110044row12_col2,#T_681e2b02_fc30_11eb_980e_0242ac110044row12_col5{\n",
       "            background-color:  #e05536;\n",
       "            color:  #000000;\n",
       "        }#T_681e2b02_fc30_11eb_980e_0242ac110044row12_col3{\n",
       "            background-color:  #c03a51;\n",
       "            color:  #f1f1f1;\n",
       "        }#T_681e2b02_fc30_11eb_980e_0242ac110044row12_col7{\n",
       "            background-color:  #ad305d;\n",
       "            color:  #f1f1f1;\n",
       "        }#T_681e2b02_fc30_11eb_980e_0242ac110044row12_col10{\n",
       "            background-color:  #390963;\n",
       "            color:  #f1f1f1;\n",
       "        }#T_681e2b02_fc30_11eb_980e_0242ac110044row12_col11,#T_681e2b02_fc30_11eb_980e_0242ac110044row13_col9{\n",
       "            background-color:  #771c6d;\n",
       "            color:  #f1f1f1;\n",
       "        }#T_681e2b02_fc30_11eb_980e_0242ac110044row12_col14{\n",
       "            background-color:  #440a68;\n",
       "            color:  #f1f1f1;\n",
       "        }#T_681e2b02_fc30_11eb_980e_0242ac110044row13_col3{\n",
       "            background-color:  #9a2865;\n",
       "            color:  #f1f1f1;\n",
       "        }#T_681e2b02_fc30_11eb_980e_0242ac110044row13_col4{\n",
       "            background-color:  #801f6c;\n",
       "            color:  #f1f1f1;\n",
       "        }#T_681e2b02_fc30_11eb_980e_0242ac110044row13_col6{\n",
       "            background-color:  #bf3952;\n",
       "            color:  #f1f1f1;\n",
       "        }#T_681e2b02_fc30_11eb_980e_0242ac110044row13_col7{\n",
       "            background-color:  #88226a;\n",
       "            color:  #f1f1f1;\n",
       "        }#T_681e2b02_fc30_11eb_980e_0242ac110044row14_col1{\n",
       "            background-color:  #f1711f;\n",
       "            color:  #000000;\n",
       "        }#T_681e2b02_fc30_11eb_980e_0242ac110044row14_col2{\n",
       "            background-color:  #f3761b;\n",
       "            color:  #000000;\n",
       "        }#T_681e2b02_fc30_11eb_980e_0242ac110044row14_col3{\n",
       "            background-color:  #fa9407;\n",
       "            color:  #000000;\n",
       "        }#T_681e2b02_fc30_11eb_980e_0242ac110044row14_col4{\n",
       "            background-color:  #f67e14;\n",
       "            color:  #000000;\n",
       "        }#T_681e2b02_fc30_11eb_980e_0242ac110044row14_col5{\n",
       "            background-color:  #ea632a;\n",
       "            color:  #000000;\n",
       "        }#T_681e2b02_fc30_11eb_980e_0242ac110044row14_col6{\n",
       "            background-color:  #f8850f;\n",
       "            color:  #000000;\n",
       "        }#T_681e2b02_fc30_11eb_980e_0242ac110044row14_col7{\n",
       "            background-color:  #400a67;\n",
       "            color:  #f1f1f1;\n",
       "        }</style><table id=\"T_681e2b02_fc30_11eb_980e_0242ac110044\" ><thead>    <tr>        <th class=\"blank level0\" ></th>        <th class=\"col_heading level0 col0\" >price</th>        <th class=\"col_heading level0 col1\" >carwidth</th>        <th class=\"col_heading level0 col2\" >carlength</th>        <th class=\"col_heading level0 col3\" >curbweight</th>        <th class=\"col_heading level0 col4\" >enginesize</th>        <th class=\"col_heading level0 col5\" >wheelbase</th>        <th class=\"col_heading level0 col6\" >horsepower</th>        <th class=\"col_heading level0 col7\" >citympg</th>        <th class=\"col_heading level0 col8\" >highwaympg</th>        <th class=\"col_heading level0 col9\" >enginetype</th>        <th class=\"col_heading level0 col10\" >fueltype</th>        <th class=\"col_heading level0 col11\" >aspiration</th>        <th class=\"col_heading level0 col12\" >carbody</th>        <th class=\"col_heading level0 col13\" >cylindernumber</th>        <th class=\"col_heading level0 col14\" >drivewheel</th>    </tr></thead><tbody>\n",
       "                <tr>\n",
       "                        <th id=\"T_681e2b02_fc30_11eb_980e_0242ac110044level0_row0\" class=\"row_heading level0 row0\" >price</th>\n",
       "                        <td id=\"T_681e2b02_fc30_11eb_980e_0242ac110044row0_col0\" class=\"data row0 col0\" >1.000000</td>\n",
       "                        <td id=\"T_681e2b02_fc30_11eb_980e_0242ac110044row0_col1\" class=\"data row0 col1\" >0.759325</td>\n",
       "                        <td id=\"T_681e2b02_fc30_11eb_980e_0242ac110044row0_col2\" class=\"data row0 col2\" >0.682920</td>\n",
       "                        <td id=\"T_681e2b02_fc30_11eb_980e_0242ac110044row0_col3\" class=\"data row0 col3\" >0.835305</td>\n",
       "                        <td id=\"T_681e2b02_fc30_11eb_980e_0242ac110044row0_col4\" class=\"data row0 col4\" >0.874145</td>\n",
       "                        <td id=\"T_681e2b02_fc30_11eb_980e_0242ac110044row0_col5\" class=\"data row0 col5\" >0.577816</td>\n",
       "                        <td id=\"T_681e2b02_fc30_11eb_980e_0242ac110044row0_col6\" class=\"data row0 col6\" >0.808139</td>\n",
       "                        <td id=\"T_681e2b02_fc30_11eb_980e_0242ac110044row0_col7\" class=\"data row0 col7\" >-0.685751</td>\n",
       "                        <td id=\"T_681e2b02_fc30_11eb_980e_0242ac110044row0_col8\" class=\"data row0 col8\" >-0.697599</td>\n",
       "                        <td id=\"T_681e2b02_fc30_11eb_980e_0242ac110044row0_col9\" class=\"data row0 col9\" >0.049171</td>\n",
       "                        <td id=\"T_681e2b02_fc30_11eb_980e_0242ac110044row0_col10\" class=\"data row0 col10\" >-0.105679</td>\n",
       "                        <td id=\"T_681e2b02_fc30_11eb_980e_0242ac110044row0_col11\" class=\"data row0 col11\" >0.177926</td>\n",
       "                        <td id=\"T_681e2b02_fc30_11eb_980e_0242ac110044row0_col12\" class=\"data row0 col12\" >-0.083976</td>\n",
       "                        <td id=\"T_681e2b02_fc30_11eb_980e_0242ac110044row0_col13\" class=\"data row0 col13\" >-0.027628</td>\n",
       "                        <td id=\"T_681e2b02_fc30_11eb_980e_0242ac110044row0_col14\" class=\"data row0 col14\" >0.577992</td>\n",
       "            </tr>\n",
       "            <tr>\n",
       "                        <th id=\"T_681e2b02_fc30_11eb_980e_0242ac110044level0_row1\" class=\"row_heading level0 row1\" >carwidth</th>\n",
       "                        <td id=\"T_681e2b02_fc30_11eb_980e_0242ac110044row1_col0\" class=\"data row1 col0\" >0.759325</td>\n",
       "                        <td id=\"T_681e2b02_fc30_11eb_980e_0242ac110044row1_col1\" class=\"data row1 col1\" >1.000000</td>\n",
       "                        <td id=\"T_681e2b02_fc30_11eb_980e_0242ac110044row1_col2\" class=\"data row1 col2\" >0.841118</td>\n",
       "                        <td id=\"T_681e2b02_fc30_11eb_980e_0242ac110044row1_col3\" class=\"data row1 col3\" >0.867032</td>\n",
       "                        <td id=\"T_681e2b02_fc30_11eb_980e_0242ac110044row1_col4\" class=\"data row1 col4\" >0.735433</td>\n",
       "                        <td id=\"T_681e2b02_fc30_11eb_980e_0242ac110044row1_col5\" class=\"data row1 col5\" >0.795144</td>\n",
       "                        <td id=\"T_681e2b02_fc30_11eb_980e_0242ac110044row1_col6\" class=\"data row1 col6\" >0.640732</td>\n",
       "                        <td id=\"T_681e2b02_fc30_11eb_980e_0242ac110044row1_col7\" class=\"data row1 col7\" >-0.642704</td>\n",
       "                        <td id=\"T_681e2b02_fc30_11eb_980e_0242ac110044row1_col8\" class=\"data row1 col8\" >-0.677218</td>\n",
       "                        <td id=\"T_681e2b02_fc30_11eb_980e_0242ac110044row1_col9\" class=\"data row1 col9\" >0.012298</td>\n",
       "                        <td id=\"T_681e2b02_fc30_11eb_980e_0242ac110044row1_col10\" class=\"data row1 col10\" >-0.233880</td>\n",
       "                        <td id=\"T_681e2b02_fc30_11eb_980e_0242ac110044row1_col11\" class=\"data row1 col11\" >0.300567</td>\n",
       "                        <td id=\"T_681e2b02_fc30_11eb_980e_0242ac110044row1_col12\" class=\"data row1 col12\" >0.131710</td>\n",
       "                        <td id=\"T_681e2b02_fc30_11eb_980e_0242ac110044row1_col13\" class=\"data row1 col13\" >-0.194074</td>\n",
       "                        <td id=\"T_681e2b02_fc30_11eb_980e_0242ac110044row1_col14\" class=\"data row1 col14\" >0.470751</td>\n",
       "            </tr>\n",
       "            <tr>\n",
       "                        <th id=\"T_681e2b02_fc30_11eb_980e_0242ac110044level0_row2\" class=\"row_heading level0 row2\" >carlength</th>\n",
       "                        <td id=\"T_681e2b02_fc30_11eb_980e_0242ac110044row2_col0\" class=\"data row2 col0\" >0.682920</td>\n",
       "                        <td id=\"T_681e2b02_fc30_11eb_980e_0242ac110044row2_col1\" class=\"data row2 col1\" >0.841118</td>\n",
       "                        <td id=\"T_681e2b02_fc30_11eb_980e_0242ac110044row2_col2\" class=\"data row2 col2\" >1.000000</td>\n",
       "                        <td id=\"T_681e2b02_fc30_11eb_980e_0242ac110044row2_col3\" class=\"data row2 col3\" >0.877728</td>\n",
       "                        <td id=\"T_681e2b02_fc30_11eb_980e_0242ac110044row2_col4\" class=\"data row2 col4\" >0.683360</td>\n",
       "                        <td id=\"T_681e2b02_fc30_11eb_980e_0242ac110044row2_col5\" class=\"data row2 col5\" >0.874587</td>\n",
       "                        <td id=\"T_681e2b02_fc30_11eb_980e_0242ac110044row2_col6\" class=\"data row2 col6\" >0.552623</td>\n",
       "                        <td id=\"T_681e2b02_fc30_11eb_980e_0242ac110044row2_col7\" class=\"data row2 col7\" >-0.670909</td>\n",
       "                        <td id=\"T_681e2b02_fc30_11eb_980e_0242ac110044row2_col8\" class=\"data row2 col8\" >-0.704662</td>\n",
       "                        <td id=\"T_681e2b02_fc30_11eb_980e_0242ac110044row2_col9\" class=\"data row2 col9\" >-0.113291</td>\n",
       "                        <td id=\"T_681e2b02_fc30_11eb_980e_0242ac110044row2_col10\" class=\"data row2 col10\" >-0.212679</td>\n",
       "                        <td id=\"T_681e2b02_fc30_11eb_980e_0242ac110044row2_col11\" class=\"data row2 col11\" >0.234539</td>\n",
       "                        <td id=\"T_681e2b02_fc30_11eb_980e_0242ac110044row2_col12\" class=\"data row2 col12\" >0.334433</td>\n",
       "                        <td id=\"T_681e2b02_fc30_11eb_980e_0242ac110044row2_col13\" class=\"data row2 col13\" >-0.109585</td>\n",
       "                        <td id=\"T_681e2b02_fc30_11eb_980e_0242ac110044row2_col14\" class=\"data row2 col14\" >0.485649</td>\n",
       "            </tr>\n",
       "            <tr>\n",
       "                        <th id=\"T_681e2b02_fc30_11eb_980e_0242ac110044level0_row3\" class=\"row_heading level0 row3\" >curbweight</th>\n",
       "                        <td id=\"T_681e2b02_fc30_11eb_980e_0242ac110044row3_col0\" class=\"data row3 col0\" >0.835305</td>\n",
       "                        <td id=\"T_681e2b02_fc30_11eb_980e_0242ac110044row3_col1\" class=\"data row3 col1\" >0.867032</td>\n",
       "                        <td id=\"T_681e2b02_fc30_11eb_980e_0242ac110044row3_col2\" class=\"data row3 col2\" >0.877728</td>\n",
       "                        <td id=\"T_681e2b02_fc30_11eb_980e_0242ac110044row3_col3\" class=\"data row3 col3\" >1.000000</td>\n",
       "                        <td id=\"T_681e2b02_fc30_11eb_980e_0242ac110044row3_col4\" class=\"data row3 col4\" >0.850594</td>\n",
       "                        <td id=\"T_681e2b02_fc30_11eb_980e_0242ac110044row3_col5\" class=\"data row3 col5\" >0.776386</td>\n",
       "                        <td id=\"T_681e2b02_fc30_11eb_980e_0242ac110044row3_col6\" class=\"data row3 col6\" >0.750739</td>\n",
       "                        <td id=\"T_681e2b02_fc30_11eb_980e_0242ac110044row3_col7\" class=\"data row3 col7\" >-0.757414</td>\n",
       "                        <td id=\"T_681e2b02_fc30_11eb_980e_0242ac110044row3_col8\" class=\"data row3 col8\" >-0.797465</td>\n",
       "                        <td id=\"T_681e2b02_fc30_11eb_980e_0242ac110044row3_col9\" class=\"data row3 col9\" >-0.055265</td>\n",
       "                        <td id=\"T_681e2b02_fc30_11eb_980e_0242ac110044row3_col10\" class=\"data row3 col10\" >-0.217275</td>\n",
       "                        <td id=\"T_681e2b02_fc30_11eb_980e_0242ac110044row3_col11\" class=\"data row3 col11\" >0.324902</td>\n",
       "                        <td id=\"T_681e2b02_fc30_11eb_980e_0242ac110044row3_col12\" class=\"data row3 col12\" >0.128467</td>\n",
       "                        <td id=\"T_681e2b02_fc30_11eb_980e_0242ac110044row3_col13\" class=\"data row3 col13\" >-0.047127</td>\n",
       "                        <td id=\"T_681e2b02_fc30_11eb_980e_0242ac110044row3_col14\" class=\"data row3 col14\" >0.575111</td>\n",
       "            </tr>\n",
       "            <tr>\n",
       "                        <th id=\"T_681e2b02_fc30_11eb_980e_0242ac110044level0_row4\" class=\"row_heading level0 row4\" >enginesize</th>\n",
       "                        <td id=\"T_681e2b02_fc30_11eb_980e_0242ac110044row4_col0\" class=\"data row4 col0\" >0.874145</td>\n",
       "                        <td id=\"T_681e2b02_fc30_11eb_980e_0242ac110044row4_col1\" class=\"data row4 col1\" >0.735433</td>\n",
       "                        <td id=\"T_681e2b02_fc30_11eb_980e_0242ac110044row4_col2\" class=\"data row4 col2\" >0.683360</td>\n",
       "                        <td id=\"T_681e2b02_fc30_11eb_980e_0242ac110044row4_col3\" class=\"data row4 col3\" >0.850594</td>\n",
       "                        <td id=\"T_681e2b02_fc30_11eb_980e_0242ac110044row4_col4\" class=\"data row4 col4\" >1.000000</td>\n",
       "                        <td id=\"T_681e2b02_fc30_11eb_980e_0242ac110044row4_col5\" class=\"data row4 col5\" >0.569329</td>\n",
       "                        <td id=\"T_681e2b02_fc30_11eb_980e_0242ac110044row4_col6\" class=\"data row4 col6\" >0.809769</td>\n",
       "                        <td id=\"T_681e2b02_fc30_11eb_980e_0242ac110044row4_col7\" class=\"data row4 col7\" >-0.653658</td>\n",
       "                        <td id=\"T_681e2b02_fc30_11eb_980e_0242ac110044row4_col8\" class=\"data row4 col8\" >-0.677470</td>\n",
       "                        <td id=\"T_681e2b02_fc30_11eb_980e_0242ac110044row4_col9\" class=\"data row4 col9\" >0.040766</td>\n",
       "                        <td id=\"T_681e2b02_fc30_11eb_980e_0242ac110044row4_col10\" class=\"data row4 col10\" >-0.069594</td>\n",
       "                        <td id=\"T_681e2b02_fc30_11eb_980e_0242ac110044row4_col11\" class=\"data row4 col11\" >0.108217</td>\n",
       "                        <td id=\"T_681e2b02_fc30_11eb_980e_0242ac110044row4_col12\" class=\"data row4 col12\" >-0.073352</td>\n",
       "                        <td id=\"T_681e2b02_fc30_11eb_980e_0242ac110044row4_col13\" class=\"data row4 col13\" >-0.085613</td>\n",
       "                        <td id=\"T_681e2b02_fc30_11eb_980e_0242ac110044row4_col14\" class=\"data row4 col14\" >0.524307</td>\n",
       "            </tr>\n",
       "            <tr>\n",
       "                        <th id=\"T_681e2b02_fc30_11eb_980e_0242ac110044level0_row5\" class=\"row_heading level0 row5\" >wheelbase</th>\n",
       "                        <td id=\"T_681e2b02_fc30_11eb_980e_0242ac110044row5_col0\" class=\"data row5 col0\" >0.577816</td>\n",
       "                        <td id=\"T_681e2b02_fc30_11eb_980e_0242ac110044row5_col1\" class=\"data row5 col1\" >0.795144</td>\n",
       "                        <td id=\"T_681e2b02_fc30_11eb_980e_0242ac110044row5_col2\" class=\"data row5 col2\" >0.874587</td>\n",
       "                        <td id=\"T_681e2b02_fc30_11eb_980e_0242ac110044row5_col3\" class=\"data row5 col3\" >0.776386</td>\n",
       "                        <td id=\"T_681e2b02_fc30_11eb_980e_0242ac110044row5_col4\" class=\"data row5 col4\" >0.569329</td>\n",
       "                        <td id=\"T_681e2b02_fc30_11eb_980e_0242ac110044row5_col5\" class=\"data row5 col5\" >1.000000</td>\n",
       "                        <td id=\"T_681e2b02_fc30_11eb_980e_0242ac110044row5_col6\" class=\"data row5 col6\" >0.353294</td>\n",
       "                        <td id=\"T_681e2b02_fc30_11eb_980e_0242ac110044row5_col7\" class=\"data row5 col7\" >-0.470414</td>\n",
       "                        <td id=\"T_681e2b02_fc30_11eb_980e_0242ac110044row5_col8\" class=\"data row5 col8\" >-0.544082</td>\n",
       "                        <td id=\"T_681e2b02_fc30_11eb_980e_0242ac110044row5_col9\" class=\"data row5 col9\" >-0.135577</td>\n",
       "                        <td id=\"T_681e2b02_fc30_11eb_980e_0242ac110044row5_col10\" class=\"data row5 col10\" >-0.308346</td>\n",
       "                        <td id=\"T_681e2b02_fc30_11eb_980e_0242ac110044row5_col11\" class=\"data row5 col11\" >0.257611</td>\n",
       "                        <td id=\"T_681e2b02_fc30_11eb_980e_0242ac110044row5_col12\" class=\"data row5 col12\" >0.401362</td>\n",
       "                        <td id=\"T_681e2b02_fc30_11eb_980e_0242ac110044row5_col13\" class=\"data row5 col13\" >-0.184596</td>\n",
       "                        <td id=\"T_681e2b02_fc30_11eb_980e_0242ac110044row5_col14\" class=\"data row5 col14\" >0.459745</td>\n",
       "            </tr>\n",
       "            <tr>\n",
       "                        <th id=\"T_681e2b02_fc30_11eb_980e_0242ac110044level0_row6\" class=\"row_heading level0 row6\" >horsepower</th>\n",
       "                        <td id=\"T_681e2b02_fc30_11eb_980e_0242ac110044row6_col0\" class=\"data row6 col0\" >0.808139</td>\n",
       "                        <td id=\"T_681e2b02_fc30_11eb_980e_0242ac110044row6_col1\" class=\"data row6 col1\" >0.640732</td>\n",
       "                        <td id=\"T_681e2b02_fc30_11eb_980e_0242ac110044row6_col2\" class=\"data row6 col2\" >0.552623</td>\n",
       "                        <td id=\"T_681e2b02_fc30_11eb_980e_0242ac110044row6_col3\" class=\"data row6 col3\" >0.750739</td>\n",
       "                        <td id=\"T_681e2b02_fc30_11eb_980e_0242ac110044row6_col4\" class=\"data row6 col4\" >0.809769</td>\n",
       "                        <td id=\"T_681e2b02_fc30_11eb_980e_0242ac110044row6_col5\" class=\"data row6 col5\" >0.353294</td>\n",
       "                        <td id=\"T_681e2b02_fc30_11eb_980e_0242ac110044row6_col6\" class=\"data row6 col6\" >1.000000</td>\n",
       "                        <td id=\"T_681e2b02_fc30_11eb_980e_0242ac110044row6_col7\" class=\"data row6 col7\" >-0.801456</td>\n",
       "                        <td id=\"T_681e2b02_fc30_11eb_980e_0242ac110044row6_col8\" class=\"data row6 col8\" >-0.770544</td>\n",
       "                        <td id=\"T_681e2b02_fc30_11eb_980e_0242ac110044row6_col9\" class=\"data row6 col9\" >0.010301</td>\n",
       "                        <td id=\"T_681e2b02_fc30_11eb_980e_0242ac110044row6_col10\" class=\"data row6 col10\" >0.163926</td>\n",
       "                        <td id=\"T_681e2b02_fc30_11eb_980e_0242ac110044row6_col11\" class=\"data row6 col11\" >0.241685</td>\n",
       "                        <td id=\"T_681e2b02_fc30_11eb_980e_0242ac110044row6_col12\" class=\"data row6 col12\" >-0.153928</td>\n",
       "                        <td id=\"T_681e2b02_fc30_11eb_980e_0242ac110044row6_col13\" class=\"data row6 col13\" >0.115612</td>\n",
       "                        <td id=\"T_681e2b02_fc30_11eb_980e_0242ac110044row6_col14\" class=\"data row6 col14\" >0.518686</td>\n",
       "            </tr>\n",
       "            <tr>\n",
       "                        <th id=\"T_681e2b02_fc30_11eb_980e_0242ac110044level0_row7\" class=\"row_heading level0 row7\" >citympg</th>\n",
       "                        <td id=\"T_681e2b02_fc30_11eb_980e_0242ac110044row7_col0\" class=\"data row7 col0\" >-0.685751</td>\n",
       "                        <td id=\"T_681e2b02_fc30_11eb_980e_0242ac110044row7_col1\" class=\"data row7 col1\" >-0.642704</td>\n",
       "                        <td id=\"T_681e2b02_fc30_11eb_980e_0242ac110044row7_col2\" class=\"data row7 col2\" >-0.670909</td>\n",
       "                        <td id=\"T_681e2b02_fc30_11eb_980e_0242ac110044row7_col3\" class=\"data row7 col3\" >-0.757414</td>\n",
       "                        <td id=\"T_681e2b02_fc30_11eb_980e_0242ac110044row7_col4\" class=\"data row7 col4\" >-0.653658</td>\n",
       "                        <td id=\"T_681e2b02_fc30_11eb_980e_0242ac110044row7_col5\" class=\"data row7 col5\" >-0.470414</td>\n",
       "                        <td id=\"T_681e2b02_fc30_11eb_980e_0242ac110044row7_col6\" class=\"data row7 col6\" >-0.801456</td>\n",
       "                        <td id=\"T_681e2b02_fc30_11eb_980e_0242ac110044row7_col7\" class=\"data row7 col7\" >1.000000</td>\n",
       "                        <td id=\"T_681e2b02_fc30_11eb_980e_0242ac110044row7_col8\" class=\"data row7 col8\" >0.971337</td>\n",
       "                        <td id=\"T_681e2b02_fc30_11eb_980e_0242ac110044row7_col9\" class=\"data row7 col9\" >-0.085004</td>\n",
       "                        <td id=\"T_681e2b02_fc30_11eb_980e_0242ac110044row7_col10\" class=\"data row7 col10\" >-0.255963</td>\n",
       "                        <td id=\"T_681e2b02_fc30_11eb_980e_0242ac110044row7_col11\" class=\"data row7 col11\" >-0.202362</td>\n",
       "                        <td id=\"T_681e2b02_fc30_11eb_980e_0242ac110044row7_col12\" class=\"data row7 col12\" >0.031697</td>\n",
       "                        <td id=\"T_681e2b02_fc30_11eb_980e_0242ac110044row7_col13\" class=\"data row7 col13\" >-0.126422</td>\n",
       "                        <td id=\"T_681e2b02_fc30_11eb_980e_0242ac110044row7_col14\" class=\"data row7 col14\" >-0.449581</td>\n",
       "            </tr>\n",
       "            <tr>\n",
       "                        <th id=\"T_681e2b02_fc30_11eb_980e_0242ac110044level0_row8\" class=\"row_heading level0 row8\" >highwaympg</th>\n",
       "                        <td id=\"T_681e2b02_fc30_11eb_980e_0242ac110044row8_col0\" class=\"data row8 col0\" >-0.697599</td>\n",
       "                        <td id=\"T_681e2b02_fc30_11eb_980e_0242ac110044row8_col1\" class=\"data row8 col1\" >-0.677218</td>\n",
       "                        <td id=\"T_681e2b02_fc30_11eb_980e_0242ac110044row8_col2\" class=\"data row8 col2\" >-0.704662</td>\n",
       "                        <td id=\"T_681e2b02_fc30_11eb_980e_0242ac110044row8_col3\" class=\"data row8 col3\" >-0.797465</td>\n",
       "                        <td id=\"T_681e2b02_fc30_11eb_980e_0242ac110044row8_col4\" class=\"data row8 col4\" >-0.677470</td>\n",
       "                        <td id=\"T_681e2b02_fc30_11eb_980e_0242ac110044row8_col5\" class=\"data row8 col5\" >-0.544082</td>\n",
       "                        <td id=\"T_681e2b02_fc30_11eb_980e_0242ac110044row8_col6\" class=\"data row8 col6\" >-0.770544</td>\n",
       "                        <td id=\"T_681e2b02_fc30_11eb_980e_0242ac110044row8_col7\" class=\"data row8 col7\" >0.971337</td>\n",
       "                        <td id=\"T_681e2b02_fc30_11eb_980e_0242ac110044row8_col8\" class=\"data row8 col8\" >1.000000</td>\n",
       "                        <td id=\"T_681e2b02_fc30_11eb_980e_0242ac110044row8_col9\" class=\"data row8 col9\" >-0.078456</td>\n",
       "                        <td id=\"T_681e2b02_fc30_11eb_980e_0242ac110044row8_col10\" class=\"data row8 col10\" >-0.191392</td>\n",
       "                        <td id=\"T_681e2b02_fc30_11eb_980e_0242ac110044row8_col11\" class=\"data row8 col11\" >-0.254416</td>\n",
       "                        <td id=\"T_681e2b02_fc30_11eb_980e_0242ac110044row8_col12\" class=\"data row8 col12\" >-0.007170</td>\n",
       "                        <td id=\"T_681e2b02_fc30_11eb_980e_0242ac110044row8_col13\" class=\"data row8 col13\" >-0.085897</td>\n",
       "                        <td id=\"T_681e2b02_fc30_11eb_980e_0242ac110044row8_col14\" class=\"data row8 col14\" >-0.452220</td>\n",
       "            </tr>\n",
       "            <tr>\n",
       "                        <th id=\"T_681e2b02_fc30_11eb_980e_0242ac110044level0_row9\" class=\"row_heading level0 row9\" >enginetype</th>\n",
       "                        <td id=\"T_681e2b02_fc30_11eb_980e_0242ac110044row9_col0\" class=\"data row9 col0\" >0.049171</td>\n",
       "                        <td id=\"T_681e2b02_fc30_11eb_980e_0242ac110044row9_col1\" class=\"data row9 col1\" >0.012298</td>\n",
       "                        <td id=\"T_681e2b02_fc30_11eb_980e_0242ac110044row9_col2\" class=\"data row9 col2\" >-0.113291</td>\n",
       "                        <td id=\"T_681e2b02_fc30_11eb_980e_0242ac110044row9_col3\" class=\"data row9 col3\" >-0.055265</td>\n",
       "                        <td id=\"T_681e2b02_fc30_11eb_980e_0242ac110044row9_col4\" class=\"data row9 col4\" >0.040766</td>\n",
       "                        <td id=\"T_681e2b02_fc30_11eb_980e_0242ac110044row9_col5\" class=\"data row9 col5\" >-0.135577</td>\n",
       "                        <td id=\"T_681e2b02_fc30_11eb_980e_0242ac110044row9_col6\" class=\"data row9 col6\" >0.010301</td>\n",
       "                        <td id=\"T_681e2b02_fc30_11eb_980e_0242ac110044row9_col7\" class=\"data row9 col7\" >-0.085004</td>\n",
       "                        <td id=\"T_681e2b02_fc30_11eb_980e_0242ac110044row9_col8\" class=\"data row9 col8\" >-0.078456</td>\n",
       "                        <td id=\"T_681e2b02_fc30_11eb_980e_0242ac110044row9_col9\" class=\"data row9 col9\" >1.000000</td>\n",
       "                        <td id=\"T_681e2b02_fc30_11eb_980e_0242ac110044row9_col10\" class=\"data row9 col10\" >0.082695</td>\n",
       "                        <td id=\"T_681e2b02_fc30_11eb_980e_0242ac110044row9_col11\" class=\"data row9 col11\" >-0.102963</td>\n",
       "                        <td id=\"T_681e2b02_fc30_11eb_980e_0242ac110044row9_col12\" class=\"data row9 col12\" >-0.037024</td>\n",
       "                        <td id=\"T_681e2b02_fc30_11eb_980e_0242ac110044row9_col13\" class=\"data row9 col13\" >0.237390</td>\n",
       "                        <td id=\"T_681e2b02_fc30_11eb_980e_0242ac110044row9_col14\" class=\"data row9 col14\" >-0.116823</td>\n",
       "            </tr>\n",
       "            <tr>\n",
       "                        <th id=\"T_681e2b02_fc30_11eb_980e_0242ac110044level0_row10\" class=\"row_heading level0 row10\" >fueltype</th>\n",
       "                        <td id=\"T_681e2b02_fc30_11eb_980e_0242ac110044row10_col0\" class=\"data row10 col0\" >-0.105679</td>\n",
       "                        <td id=\"T_681e2b02_fc30_11eb_980e_0242ac110044row10_col1\" class=\"data row10 col1\" >-0.233880</td>\n",
       "                        <td id=\"T_681e2b02_fc30_11eb_980e_0242ac110044row10_col2\" class=\"data row10 col2\" >-0.212679</td>\n",
       "                        <td id=\"T_681e2b02_fc30_11eb_980e_0242ac110044row10_col3\" class=\"data row10 col3\" >-0.217275</td>\n",
       "                        <td id=\"T_681e2b02_fc30_11eb_980e_0242ac110044row10_col4\" class=\"data row10 col4\" >-0.069594</td>\n",
       "                        <td id=\"T_681e2b02_fc30_11eb_980e_0242ac110044row10_col5\" class=\"data row10 col5\" >-0.308346</td>\n",
       "                        <td id=\"T_681e2b02_fc30_11eb_980e_0242ac110044row10_col6\" class=\"data row10 col6\" >0.163926</td>\n",
       "                        <td id=\"T_681e2b02_fc30_11eb_980e_0242ac110044row10_col7\" class=\"data row10 col7\" >-0.255963</td>\n",
       "                        <td id=\"T_681e2b02_fc30_11eb_980e_0242ac110044row10_col8\" class=\"data row10 col8\" >-0.191392</td>\n",
       "                        <td id=\"T_681e2b02_fc30_11eb_980e_0242ac110044row10_col9\" class=\"data row10 col9\" >0.082695</td>\n",
       "                        <td id=\"T_681e2b02_fc30_11eb_980e_0242ac110044row10_col10\" class=\"data row10 col10\" >1.000000</td>\n",
       "                        <td id=\"T_681e2b02_fc30_11eb_980e_0242ac110044row10_col11\" class=\"data row10 col11\" >-0.401397</td>\n",
       "                        <td id=\"T_681e2b02_fc30_11eb_980e_0242ac110044row10_col12\" class=\"data row10 col12\" >-0.147853</td>\n",
       "                        <td id=\"T_681e2b02_fc30_11eb_980e_0242ac110044row10_col13\" class=\"data row10 col13\" >0.110617</td>\n",
       "                        <td id=\"T_681e2b02_fc30_11eb_980e_0242ac110044row10_col14\" class=\"data row10 col14\" >-0.132257</td>\n",
       "            </tr>\n",
       "            <tr>\n",
       "                        <th id=\"T_681e2b02_fc30_11eb_980e_0242ac110044level0_row11\" class=\"row_heading level0 row11\" >aspiration</th>\n",
       "                        <td id=\"T_681e2b02_fc30_11eb_980e_0242ac110044row11_col0\" class=\"data row11 col0\" >0.177926</td>\n",
       "                        <td id=\"T_681e2b02_fc30_11eb_980e_0242ac110044row11_col1\" class=\"data row11 col1\" >0.300567</td>\n",
       "                        <td id=\"T_681e2b02_fc30_11eb_980e_0242ac110044row11_col2\" class=\"data row11 col2\" >0.234539</td>\n",
       "                        <td id=\"T_681e2b02_fc30_11eb_980e_0242ac110044row11_col3\" class=\"data row11 col3\" >0.324902</td>\n",
       "                        <td id=\"T_681e2b02_fc30_11eb_980e_0242ac110044row11_col4\" class=\"data row11 col4\" >0.108217</td>\n",
       "                        <td id=\"T_681e2b02_fc30_11eb_980e_0242ac110044row11_col5\" class=\"data row11 col5\" >0.257611</td>\n",
       "                        <td id=\"T_681e2b02_fc30_11eb_980e_0242ac110044row11_col6\" class=\"data row11 col6\" >0.241685</td>\n",
       "                        <td id=\"T_681e2b02_fc30_11eb_980e_0242ac110044row11_col7\" class=\"data row11 col7\" >-0.202362</td>\n",
       "                        <td id=\"T_681e2b02_fc30_11eb_980e_0242ac110044row11_col8\" class=\"data row11 col8\" >-0.254416</td>\n",
       "                        <td id=\"T_681e2b02_fc30_11eb_980e_0242ac110044row11_col9\" class=\"data row11 col9\" >-0.102963</td>\n",
       "                        <td id=\"T_681e2b02_fc30_11eb_980e_0242ac110044row11_col10\" class=\"data row11 col10\" >-0.401397</td>\n",
       "                        <td id=\"T_681e2b02_fc30_11eb_980e_0242ac110044row11_col11\" class=\"data row11 col11\" >1.000000</td>\n",
       "                        <td id=\"T_681e2b02_fc30_11eb_980e_0242ac110044row11_col12\" class=\"data row11 col12\" >0.063028</td>\n",
       "                        <td id=\"T_681e2b02_fc30_11eb_980e_0242ac110044row11_col13\" class=\"data row11 col13\" >-0.133119</td>\n",
       "                        <td id=\"T_681e2b02_fc30_11eb_980e_0242ac110044row11_col14\" class=\"data row11 col14\" >0.066465</td>\n",
       "            </tr>\n",
       "            <tr>\n",
       "                        <th id=\"T_681e2b02_fc30_11eb_980e_0242ac110044level0_row12\" class=\"row_heading level0 row12\" >carbody</th>\n",
       "                        <td id=\"T_681e2b02_fc30_11eb_980e_0242ac110044row12_col0\" class=\"data row12 col0\" >-0.083976</td>\n",
       "                        <td id=\"T_681e2b02_fc30_11eb_980e_0242ac110044row12_col1\" class=\"data row12 col1\" >0.131710</td>\n",
       "                        <td id=\"T_681e2b02_fc30_11eb_980e_0242ac110044row12_col2\" class=\"data row12 col2\" >0.334433</td>\n",
       "                        <td id=\"T_681e2b02_fc30_11eb_980e_0242ac110044row12_col3\" class=\"data row12 col3\" >0.128467</td>\n",
       "                        <td id=\"T_681e2b02_fc30_11eb_980e_0242ac110044row12_col4\" class=\"data row12 col4\" >-0.073352</td>\n",
       "                        <td id=\"T_681e2b02_fc30_11eb_980e_0242ac110044row12_col5\" class=\"data row12 col5\" >0.401362</td>\n",
       "                        <td id=\"T_681e2b02_fc30_11eb_980e_0242ac110044row12_col6\" class=\"data row12 col6\" >-0.153928</td>\n",
       "                        <td id=\"T_681e2b02_fc30_11eb_980e_0242ac110044row12_col7\" class=\"data row12 col7\" >0.031697</td>\n",
       "                        <td id=\"T_681e2b02_fc30_11eb_980e_0242ac110044row12_col8\" class=\"data row12 col8\" >-0.007170</td>\n",
       "                        <td id=\"T_681e2b02_fc30_11eb_980e_0242ac110044row12_col9\" class=\"data row12 col9\" >-0.037024</td>\n",
       "                        <td id=\"T_681e2b02_fc30_11eb_980e_0242ac110044row12_col10\" class=\"data row12 col10\" >-0.147853</td>\n",
       "                        <td id=\"T_681e2b02_fc30_11eb_980e_0242ac110044row12_col11\" class=\"data row12 col11\" >0.063028</td>\n",
       "                        <td id=\"T_681e2b02_fc30_11eb_980e_0242ac110044row12_col12\" class=\"data row12 col12\" >1.000000</td>\n",
       "                        <td id=\"T_681e2b02_fc30_11eb_980e_0242ac110044row12_col13\" class=\"data row12 col13\" >-0.048408</td>\n",
       "                        <td id=\"T_681e2b02_fc30_11eb_980e_0242ac110044row12_col14\" class=\"data row12 col14\" >-0.155745</td>\n",
       "            </tr>\n",
       "            <tr>\n",
       "                        <th id=\"T_681e2b02_fc30_11eb_980e_0242ac110044level0_row13\" class=\"row_heading level0 row13\" >cylindernumber</th>\n",
       "                        <td id=\"T_681e2b02_fc30_11eb_980e_0242ac110044row13_col0\" class=\"data row13 col0\" >-0.027628</td>\n",
       "                        <td id=\"T_681e2b02_fc30_11eb_980e_0242ac110044row13_col1\" class=\"data row13 col1\" >-0.194074</td>\n",
       "                        <td id=\"T_681e2b02_fc30_11eb_980e_0242ac110044row13_col2\" class=\"data row13 col2\" >-0.109585</td>\n",
       "                        <td id=\"T_681e2b02_fc30_11eb_980e_0242ac110044row13_col3\" class=\"data row13 col3\" >-0.047127</td>\n",
       "                        <td id=\"T_681e2b02_fc30_11eb_980e_0242ac110044row13_col4\" class=\"data row13 col4\" >-0.085613</td>\n",
       "                        <td id=\"T_681e2b02_fc30_11eb_980e_0242ac110044row13_col5\" class=\"data row13 col5\" >-0.184596</td>\n",
       "                        <td id=\"T_681e2b02_fc30_11eb_980e_0242ac110044row13_col6\" class=\"data row13 col6\" >0.115612</td>\n",
       "                        <td id=\"T_681e2b02_fc30_11eb_980e_0242ac110044row13_col7\" class=\"data row13 col7\" >-0.126422</td>\n",
       "                        <td id=\"T_681e2b02_fc30_11eb_980e_0242ac110044row13_col8\" class=\"data row13 col8\" >-0.085897</td>\n",
       "                        <td id=\"T_681e2b02_fc30_11eb_980e_0242ac110044row13_col9\" class=\"data row13 col9\" >0.237390</td>\n",
       "                        <td id=\"T_681e2b02_fc30_11eb_980e_0242ac110044row13_col10\" class=\"data row13 col10\" >0.110617</td>\n",
       "                        <td id=\"T_681e2b02_fc30_11eb_980e_0242ac110044row13_col11\" class=\"data row13 col11\" >-0.133119</td>\n",
       "                        <td id=\"T_681e2b02_fc30_11eb_980e_0242ac110044row13_col12\" class=\"data row13 col12\" >-0.048408</td>\n",
       "                        <td id=\"T_681e2b02_fc30_11eb_980e_0242ac110044row13_col13\" class=\"data row13 col13\" >1.000000</td>\n",
       "                        <td id=\"T_681e2b02_fc30_11eb_980e_0242ac110044row13_col14\" class=\"data row13 col14\" >0.223238</td>\n",
       "            </tr>\n",
       "            <tr>\n",
       "                        <th id=\"T_681e2b02_fc30_11eb_980e_0242ac110044level0_row14\" class=\"row_heading level0 row14\" >drivewheel</th>\n",
       "                        <td id=\"T_681e2b02_fc30_11eb_980e_0242ac110044row14_col0\" class=\"data row14 col0\" >0.577992</td>\n",
       "                        <td id=\"T_681e2b02_fc30_11eb_980e_0242ac110044row14_col1\" class=\"data row14 col1\" >0.470751</td>\n",
       "                        <td id=\"T_681e2b02_fc30_11eb_980e_0242ac110044row14_col2\" class=\"data row14 col2\" >0.485649</td>\n",
       "                        <td id=\"T_681e2b02_fc30_11eb_980e_0242ac110044row14_col3\" class=\"data row14 col3\" >0.575111</td>\n",
       "                        <td id=\"T_681e2b02_fc30_11eb_980e_0242ac110044row14_col4\" class=\"data row14 col4\" >0.524307</td>\n",
       "                        <td id=\"T_681e2b02_fc30_11eb_980e_0242ac110044row14_col5\" class=\"data row14 col5\" >0.459745</td>\n",
       "                        <td id=\"T_681e2b02_fc30_11eb_980e_0242ac110044row14_col6\" class=\"data row14 col6\" >0.518686</td>\n",
       "                        <td id=\"T_681e2b02_fc30_11eb_980e_0242ac110044row14_col7\" class=\"data row14 col7\" >-0.449581</td>\n",
       "                        <td id=\"T_681e2b02_fc30_11eb_980e_0242ac110044row14_col8\" class=\"data row14 col8\" >-0.452220</td>\n",
       "                        <td id=\"T_681e2b02_fc30_11eb_980e_0242ac110044row14_col9\" class=\"data row14 col9\" >-0.116823</td>\n",
       "                        <td id=\"T_681e2b02_fc30_11eb_980e_0242ac110044row14_col10\" class=\"data row14 col10\" >-0.132257</td>\n",
       "                        <td id=\"T_681e2b02_fc30_11eb_980e_0242ac110044row14_col11\" class=\"data row14 col11\" >0.066465</td>\n",
       "                        <td id=\"T_681e2b02_fc30_11eb_980e_0242ac110044row14_col12\" class=\"data row14 col12\" >-0.155745</td>\n",
       "                        <td id=\"T_681e2b02_fc30_11eb_980e_0242ac110044row14_col13\" class=\"data row14 col13\" >0.223238</td>\n",
       "                        <td id=\"T_681e2b02_fc30_11eb_980e_0242ac110044row14_col14\" class=\"data row14 col14\" >1.000000</td>\n",
       "            </tr>\n",
       "    </tbody></table>"
      ],
      "text/plain": [
       "<pandas.io.formats.style.Styler at 0x7f4c33610c18>"
      ]
     },
     "execution_count": 51,
     "metadata": {},
     "output_type": "execute_result"
    }
   ],
   "source": [
    "corr=df_auto.corr()\n",
    "corr.style.background_gradient(cmap=\"inferno\")"
   ]
  },
  {
   "cell_type": "code",
   "execution_count": 52,
   "metadata": {
    "tags": []
   },
   "outputs": [
    {
     "data": {
      "text/plain": [
       "<AxesSubplot:>"
      ]
     },
     "execution_count": 52,
     "metadata": {},
     "output_type": "execute_result"
    },
    {
     "data": {
      "image/png": "[encoded data removed]",
      "text/plain": [
       "<Figure size 1080x1080 with 2 Axes>"
      ]
     },
     "metadata": {
      "needs_background": "light"
     },
     "output_type": "display_data"
    }
   ],
   "source": [
    "plt.figure(figsize=(15,15))\n",
    "sns.heatmap(df_auto.corr(), annot=True, cmap='inferno', \n",
    "            mask=np.triu(df_auto.corr(),k=1))"
   ]
  },
  {
   "cell_type": "markdown",
   "metadata": {
    "tags": []
   },
   "source": [
    "## Build Models"
   ]
  },
  {
   "cell_type": "code",
   "execution_count": null,
   "metadata": {},
   "outputs": [],
   "source": [
    "from sklearn.model_selection import (train_test_split,KFold,\n",
    "                                     cross_val_score,GridSearchCV,\n",
    "                                     RandomizedSearchCV)\n",
    "x=df_auto.drop(['price'],axis=1)\n",
    "y=df_auto['price']\n",
    "xr,xt,yr,yt=train_test_split(x,y,test_size=0.1)"
   ]
  },
  {
   "cell_type": "code",
   "execution_count": 54,
   "metadata": {
    "tags": []
   },
   "outputs": [],
   "source": [
    "from sklearn.ensemble import RandomForestRegressor\n",
    "from xgboost import XGBRegressor\n",
    "from lightgbm import LGBMRegressor\n",
    "from sklearn.metrics import (r2_score,mean_squared_error,\n",
    "                             mean_squared_log_error,make_scorer)\n",
    "from sklearn.pipeline import make_pipeline"
   ]
  },
  {
   "cell_type": "code",
   "execution_count": 55,
   "metadata": {
    "tags": []
   },
   "outputs": [
    {
     "data": {
      "text/plain": [
       "Pipeline(steps=[('lgbmregressor', LGBMRegressor(n_estimators=40))])"
      ]
     },
     "execution_count": 55,
     "metadata": {},
     "output_type": "execute_result"
    }
   ],
   "source": [
    "lgbm_mod = LGBMRegressor(n_estimators=40)\n",
    "lgbm_model = make_pipeline(lgbm_mod)\n",
    "lgbm_model.fit(x, y)"
   ]
  },
  {
   "cell_type": "code",
   "execution_count": 56,
   "metadata": {
    "tags": []
   },
   "outputs": [
    {
     "name": "stdout",
     "output_type": "stream",
     "text": [
      "Pipeline(steps=[('lgbmregressor', LGBMRegressor(n_estimators=40))])\n"
     ]
    }
   ],
   "source": [
    "print(lgbm_model)"
   ]
  },
  {
   "cell_type": "code",
   "execution_count": 57,
   "metadata": {
    "tags": []
   },
   "outputs": [
    {
     "name": "stdout",
     "output_type": "stream",
     "text": [
      "[ 0.78956048  0.74401719 -0.3405842   0.75368345 -0.04488081]\n",
      "0.9157804164345864\n",
      "5317747.460037153\n",
      "0.015434077531016586\n"
     ]
    }
   ],
   "source": [
    "kfold = KFold(n_splits=5)\n",
    "lgbm_score = cross_val_score(lgbm_model, x, y, cv=kfold)\n",
    "yp=lgbm_model.predict(xt)\n",
    "\n",
    "lgbm_r2_score = r2_score(yt, yp)\n",
    "lgbm_sq_err = mean_squared_error(yt, yp)\n",
    "lgbm_sq_log_err = mean_squared_log_error(yt, yp)\n",
    "print(lgbm_score)\n",
    "print(lgbm_r2_score)\n",
    "print(lgbm_sq_err)\n",
    "print(lgbm_sq_log_err)"
   ]
  },
  {
   "cell_type": "code",
   "execution_count": 58,
   "metadata": {
    "tags": []
   },
   "outputs": [
    {
     "name": "stdout",
     "output_type": "stream",
     "text": [
      "Pipeline(steps=[('randomforestregressor', RandomForestRegressor())])\n",
      "[ 0.83053568  0.90781004 -1.21850202  0.90519312  0.64804903]\n",
      "0.9904513845669747\n",
      "602913.5186402726\n",
      "0.0031391803623110523\n"
     ]
    }
   ],
   "source": [
    "rf_mod = RandomForestRegressor(n_estimators=100)\n",
    "rf_model = make_pipeline(rf_mod)\n",
    "rf_model.fit(x,y)\n",
    "print(rf_model)\n",
    "\n",
    "kfold = KFold(n_splits=5)\n",
    "rf_score = cross_val_score(rf_model, x, y, cv=kfold)\n",
    "yp = rf_model.predict(xt)\n",
    "\n",
    "rf_r2_score = r2_score(yt, yp)\n",
    "rf_sq_err = mean_squared_error(yt, yp)\n",
    "rf_sq_log_err = mean_squared_log_error(yt, yp)\n",
    "\n",
    "print(rf_score)\n",
    "print(rf_r2_score)\n",
    "print(rf_sq_err)\n",
    "print(rf_sq_log_err)"
   ]
  },
  {
   "cell_type": "code",
   "execution_count": null,
   "metadata": {},
   "outputs": [],
   "source": [
    "xgb1 = XGBRegressor()\n",
    "parameters = {'n_estimators': [500]}\n",
    "xgb_grid = GridSearchCV(xgb1,parameters,cv = 2)\n",
    "\n",
    "xgb_grid.fit(x,y)\n",
    "\n",
    "yp = xgb_grid.predict(xt)\n",
    "\n",
    "xgb_r2_score = r2_score(yt, yp)\n",
    "xgb_sq_err = mean_squared_error(yt, yp)\n",
    "xgb_sq_log_err = mean_squared_log_error(yt, yp)\n",
    "\n",
    "print(xgb_r2_score)\n",
    "print(xgb_sq_err)\n",
    "print(xgb_sq_log_err)"
   ]
  }
 ],
 "metadata": {
  "kernelspec": {
   "display_name": "Python 3",
   "language": "python",
   "name": "python3"
  },
  "kubeflow_notebook": {
   "autosnapshot": true,
   "docker_image": "gcr.io/arrikto/jupyter-kale-py36@sha256:5c30d30c0459b0d7597293900be0897d5595a819f5a8311765cd928f87835d44",
   "experiment": {
    "id": "",
    "name": ""
   },
   "experiment_name": "",
   "katib_metadata": {
    "algorithm": {
     "algorithmName": "grid"
    },
    "maxFailedTrialCount": 3,
    "maxTrialCount": 12,
    "objective": {
     "objectiveMetricName": "",
     "type": "minimize"
    },
    "parallelTrialCount": 3,
    "parameters": []
   },
   "katib_run": false,
   "pipeline_description": "",
   "pipeline_name": "",
   "snapshot_volumes": true,
   "steps_defaults": [
    "label:access-ml-pipeline:true",
    "label:access-rok:true"
   ],
   "volume_access_mode": "rwm",
   "volumes": [
    {
     "annotations": [],
     "mount_point": "/home/jovyan",
     "name": "workspace-learn-kubeflow-pipelines-vafzh9qkn",
     "size": 5,
     "size_type": "Gi",
     "snapshot": false,
     "type": "clone"
    },
    {
     "annotations": [],
     "mount_point": "/home/jovyan/learn-kubeflow-pipelines-vol-1",
     "name": "learn-kubeflow-pipelines-vol-1-e88r895g9",
     "size": 5,
     "size_type": "Gi",
     "snapshot": false,
     "type": "clone"
    }
   ]
  },
  "language_info": {
   "codemirror_mode": {
    "name": "ipython",
    "version": 3
   },
   "file_extension": ".py",
   "mimetype": "text/x-python",
   "name": "python",
   "nbconvert_exporter": "python",
   "pygments_lexer": "ipython3",
   "version": "3.6.9"
  }
 },
 "nbformat": 4,
 "nbformat_minor": 4
}
